{
  "nbformat": 4,
  "nbformat_minor": 0,
  "metadata": {
    "colab": {
      "name": "Team_Notebook_EDA.ipynb",
      "provenance": [],
      "collapsed_sections": [
        "iVnv0LLxQKtY",
        "wtcg53A-QKtY",
        "c993dd75"
      ],
      "include_colab_link": true
    },
    "kernelspec": {
      "name": "python3",
      "display_name": "Python 3"
    },
    "language_info": {
      "name": "python"
    }
  },
  "cells": [
    {
      "cell_type": "markdown",
      "metadata": {
        "id": "view-in-github",
        "colab_type": "text"
      },
      "source": [
        "<a href=\"https://colab.research.google.com/github/saif-raja/Capstone-Project-2_Classification-Insurance_Cross_Selling/blob/main/EDA_Experiments.ipynb\" target=\"_parent\"><img src=\"https://colab.research.google.com/assets/colab-badge.svg\" alt=\"Open In Colab\"/></a>"
      ]
    },
    {
      "cell_type": "markdown",
      "metadata": {
        "papermill": {
          "duration": 0.045752,
          "end_time": "2021-08-16T14:48:39.106153",
          "exception": false,
          "start_time": "2021-08-16T14:48:39.060401",
          "status": "completed"
        },
        "tags": [],
        "id": "275c1428"
      },
      "source": [
        "![](https://autonexa.com/wp-content/uploads/2018/08/INS-1-780x405.jpg)"
      ]
    },
    {
      "cell_type": "markdown",
      "metadata": {
        "id": "OE_cH5PEQKn1"
      },
      "source": [
        "#<font size=\"+3\" color='#053c96'><b> Problem Statement</b></font>"
      ]
    },
    {
      "cell_type": "markdown",
      "metadata": {
        "id": "jJAmGx75jJk1"
      },
      "source": [
        "Our client is an Insurance company that has provided Health Insurance to its customers now they need your help in building a model to predict whether the policyholders (customers) from past year will also be interested in Vehicle Insurance provided by the company.\n",
        "\n",
        "An insurance policy is an arrangement by which a company undertakes to provide a guarantee of compensation for specified loss, damage, illness, or death in return for the payment of a specified premium. A premium is a sum of money that the customer needs to pay regularly to an insurance company for this guarantee.\n",
        "\n",
        "For example, you may pay a premium of Rs. 5000 each year for a health insurance cover of Rs. 200,000/- so that if, God forbid, you fall ill and need to be hospitalised in that year, the insurance provider company will bear the cost of hospitalisation etc. for upto Rs. 200,000. Now if you are wondering how can company bear such high hospitalisation cost when it charges a premium of only Rs. 5000/-, that is where the concept of probabilities comes in picture. For example, like you, there may be 100 customers who would be paying a premium of Rs. 5000 every year, but only a few of them (say 2-3) would get hospitalised that year and not everyone. This way everyone shares the risk of everyone else.\n",
        "\n",
        "Just like medical insurance, there is vehicle insurance where every year customer needs to pay a premium of certain amount to insurance provider company so that in case of unfortunate accident by the vehicle, the insurance provider company will provide a compensation (called ‘sum assured’) to the customer.\n",
        "\n",
        "Building a model to predict whether a customer would be interested in Vehicle Insurance is extremely helpful for the company because it can then accordingly plan its communication strategy to reach out to those customers and optimise its business model and revenue.\n",
        "\n",
        "Now, in order to predict, whether the customer would be interested in Vehicle insurance, you have information about demographics (gender, age, region code type), Vehicles (Vehicle Age, Damage), Policy (Premium, sourcing channel) etc."
      ]
    },
    {
      "cell_type": "markdown",
      "metadata": {
        "id": "vI4lg3AcQKn2"
      },
      "source": [
        "## <font size=\"+3\" color='#053c96'><b>Bussiness Goal</b></font>"
      ]
    },
    {
      "cell_type": "markdown",
      "metadata": {
        "id": "sjVJ3Bo_QKn2"
      },
      "source": [
        "Building a model to predict whether a customer would be interested in Vehicle Insurance is extremely helpful for the company because it can then accordingly plan its communication strategy to reach out to those customers and optimise its business model and revenue.\n",
        "\n",
        "Now, in order to predict, whether the customer would be interested in Vehicle insurance, you have information about demographics (gender, age, region code type), Vehicles (Vehicle Age, Damage), Policy (Premium, sourcing channel) etc."
      ]
    },
    {
      "cell_type": "markdown",
      "metadata": {
        "id": "tvFv_X0791Aa"
      },
      "source": [
        "Objective:\n",
        "To predict if an insurance policy holder would be interested to buy a vehicle insurance as well. Building a model to predict whether a customer would be interested in Vehicle Insurance is extremely helpful for the company because it can then accordingly plan its communication strategy to reach out to those customers and optimize its business model and revenue.\n",
        "\n",
        "The aim of this project is to leverage the machine learning algorithms such as Logistic Regression and Random Forest to create a predictive model using statistically significant variables from the given data set.\n",
        "\n",
        "Model accuracy will be assessed using different techniques such as ROC (Receiver operating characteristic), AUC (Area under the ROC curve) and Confusion Matrix."
      ]
    },
    {
      "cell_type": "markdown",
      "metadata": {
        "id": "vE8IrkIiQKn2"
      },
      "source": [
        "##<font size=\"+3\" color='#053c96'><b>This Notebook will cover - </b></font>\n",
        "### 1. Exploratory Data Analysis\n",
        "### 2. Data Modelling and Evaluation"
      ]
    },
    {
      "cell_type": "markdown",
      "metadata": {
        "id": "NRzeWZcFQKtO"
      },
      "source": [
        "### Step 1: Perform data preparation & cleaning\n",
        "\n",
        "- Load the dataset into a data frame using Pandas\n",
        "- Explore the number of rows & columns, ranges of values etc.\n",
        "- Handle missing, incorrect and invalid data\n",
        "- Perform any additional steps (parsing dates, creating additional columns, merging multiple dataset etc.)\n",
        "\n",
        "\n",
        "### Step 2: Perform exploratory analysis & visualization\n",
        "\n",
        "- Compute the mean, sum, range and other interesting statistics for numeric columns\n",
        "- Explore distributions of numeric columns using histograms etc.\n",
        "- Explore relationship between columns using scatter plots, bar charts etc.\n",
        "- Make a note of interesting insights from the exploratory analysis\n",
        "\n",
        "### Step 3: Ask & answer questions about the data\n",
        "\n",
        "- Ask at least 4 interesting questions about your dataset\n",
        "- Answer the questions either by computing the results using Numpy/Pandas or by plotting graphs using Matplotlib/Seaborn\n",
        "- Create new columns, merge multiple dataset and perform grouping/aggregation wherever necessary\n",
        "- Wherever you're using a library function from Pandas/Numpy/Matplotlib etc. explain briefly what it does\n",
        "\n",
        "\n",
        "### Step 4: Summarize your inferences & write a conclusion\n",
        "\n",
        "- Write a summary of what you've learned from the analysis\n",
        "- Include interesting insights and graphs from previous sections\n",
        "- Share ideas for future work on the same topic using other relevant datasets\n",
        "- Share links to resources you found useful during your analysis\n"
      ]
    },
    {
      "cell_type": "markdown",
      "metadata": {
        "id": "qeuUlyr2goU7"
      },
      "source": [
        "----\n",
        "# The Structure of this notebook :\n",
        "\n",
        "\n",
        "* Initial Library imports \n",
        "* Exploring File : EdStatsCountries.csv\n",
        "  * Reading data and exploring which columns are necessary\n",
        "  * Geographic and Economic Special- Macro- country codes\n",
        "  * Grouping countries by Geographic and Economic groups ( Size-Heatmap )\n",
        "\n",
        "* Exploring File : EdStatsSeriies.csv\n",
        "  * Reading data and exploring which columns are necessary\n",
        "  * Understanding the indicator series : \n",
        "    * What about what topics are these indicators \n",
        "    * How many indicators per topic\n",
        "  * Utility Function : get_indicator_details() : \n",
        "    * This function return the details of an indicator as dictionary , \n",
        "    * useful for retrieving definition and name during plots\n",
        "\n",
        "* Exploring File : EdStatsData.csv\n",
        "  * Reading data and exploring which columns are necessary\n",
        "  * Removing Columns for Future Years , \n",
        "  * Removing Rows which are Empty\n",
        "  * Understanding the availability of Data for each Year\n",
        "    * Both before and after cleaning with Bar Plots\n",
        "\n",
        "* Utility Function : Comparative analysis\n",
        "  * get_pivot_similiarity():\n",
        "  * this function takes two countries as an input and calculates how similar they are based on all available indicators , from 1970 to 2015\n",
        "  * the calculation is based on formula :\n",
        "```\n",
        "  ( indicator_value[country1] - indicator_value[country2] ) /\n",
        "  ( indicator_value[country1] + indicator_value[country2] )\n",
        "```\n",
        "\n",
        "* Utility Function for full Report Generation \n",
        "  * generate_report():\n",
        "  * This function takes a list of countries and one indicator as Input \n",
        "  * It generates multiple different plot so that we can instantly get an idea of what is going on for that indicator\n",
        "  * the plots generated include :\n",
        "    * Line graph of values of that indicator for all countries in the list passed , over time from 1970 to 2015\n",
        "    * Pie Chart Plot for those counties for one particular year passed as input \n",
        "    * Similarity Heat Map - for visualizing which countries are more similar to each other , for each country pair inside the list of countries\n",
        "      * this function is based on the Utility function for Comparative analysis called : get_pivot_similiarity\n",
        "      * the output generated is similar to that of a correlation plot .\n",
        "\n",
        "* World Map Visualization : \n",
        "  * Dash Plotly library used for making a world map chloropleth plot \n",
        "  * Indicators such as Population , Population Growth and GDP(PPP) are visualized in this section\n",
        "\n",
        "* Case Study : BRICS Countries : \n",
        "  * BRICS Countries : Brazil Russia India China South-Africa\n",
        "  * Study of Population Growth \n",
        "  * Study of How the expenditure on education impacts the education outcomes\n",
        "  * Study of correlation between Educated, GDP and  Mortality \n",
        "\n",
        "* Case Study : Comparison between Education in India and America\n",
        "  * Study of Primary and Primary and Tertiary Education Outcomes and Expenditures\n",
        "  * Comparative study of Drop-Out rate "
      ]
    },
    {
      "cell_type": "markdown",
      "metadata": {
        "id": "AzGDqdC4fZ-b"
      },
      "source": [
        "# **Attribute Information**"
      ]
    },
    {
      "cell_type": "markdown",
      "metadata": {
        "id": "oEJxl68MjYbs"
      },
      "source": [
        "1. id :\tUnique ID for the customer\n",
        "\n",
        "2. Gender\t: Gender of the customer\n",
        "\n",
        "3. Age :\tAge of the customer\n",
        "\n",
        "4. Driving_License\t0 : Customer does not have DL, 1 : Customer already has DL\n",
        "\n",
        "5. Region_Code :\tUnique code for the region of the customer\n",
        "\n",
        "6. Previously_Insured\t: 1 : Customer already has Vehicle Insurance, 0 : Customer doesn't have Vehicle Insurance\n",
        "\n",
        "7. Vehicle_Age :\tAge of the Vehicle\n",
        "\n",
        "8. Vehicle_Damage\t :1 : Customer got his/her vehicle damaged in the past. 0 : Customer didn't get his/her vehicle damaged in the past.\n",
        "\n",
        "9. Annual_Premium\t: The amount customer needs to pay as premium in the year\n",
        "\n",
        "10. PolicySalesChannel :\tAnonymized Code for the channel of outreaching to the customer ie. Different Agents, Over Mail, Over Phone, In Person, etc.\n",
        "\n",
        "11. Vintage :\tNumber of Days, Customer has been associated with the company\n",
        "\n",
        "12. Response :\t1 : Customer is interested, 0 : Customer is not interested"
      ]
    },
    {
      "cell_type": "markdown",
      "metadata": {
        "id": "OapqDNmuQKn2"
      },
      "source": [
        "## Import Libraries"
      ]
    },
    {
      "cell_type": "markdown",
      "metadata": {
        "id": "197yYvXwuOZA"
      },
      "source": [
        "---\n",
        "# Installing and Importing Libraries \n",
        "\n",
        "# Setting up Google Drive Folder where Data is stored\n",
        "\n",
        "For Graphing : \n",
        "* Matplotib\n",
        "* Seaborn \n",
        "* heatmapz\n",
        "* Dash-Plotly\n",
        "\n",
        "Datawrangling : \n",
        "* Numpy\n",
        "* Pandas\n",
        "* Json\n",
        "\n",
        "Output Formatting :\n",
        "* pprint - Pretty Printer "
      ]
    },
    {
      "cell_type": "code",
      "metadata": {
        "id": "TkSVPYWXQKtT"
      },
      "source": [
        "import pandas as pd\n",
        "import numpy as np\n",
        "import seaborn as sns\n",
        "import matplotlib\n",
        "import matplotlib.pyplot as plt\n",
        "%matplotlib inline\n",
        "\n",
        "sns.set_style('darkgrid')\n",
        "matplotlib.rcParams['font.size'] = 14\n",
        "matplotlib.rcParams['figure.figsize'] = (9, 5)\n",
        "matplotlib.rcParams['figure.facecolor'] = '#00000000'\n",
        "\n",
        "import warnings\n",
        "warnings.filterwarnings('ignore')"
      ],
      "execution_count": null,
      "outputs": []
    },
    {
      "cell_type": "markdown",
      "metadata": {
        "id": "lSahRJCiQKn2"
      },
      "source": [
        "## Import Dataset"
      ]
    },
    {
      "cell_type": "code",
      "metadata": {
        "colab": {
          "base_uri": "https://localhost:8080/"
        },
        "id": "v1PxP-8Zz0rp",
        "outputId": "05b35df8-9524-471a-fadd-af6aa75e587d"
      },
      "source": [
        "from google.colab import drive\n",
        "drive.mount('/content/drive')"
      ],
      "execution_count": null,
      "outputs": [
        {
          "output_type": "stream",
          "name": "stdout",
          "text": [
            "Drive already mounted at /content/drive; to attempt to forcibly remount, call drive.mount(\"/content/drive\", force_remount=True).\n"
          ]
        }
      ]
    },
    {
      "cell_type": "code",
      "metadata": {
        "id": "3TMCMw9lz3rF"
      },
      "source": [
        "filepath = '/content/drive/MyDrive/AlmaBetter/Capstone2_Supervised_Classification/Code/Data/main_data.csv'\n",
        "data = pd.read_csv(filepath)"
      ],
      "execution_count": null,
      "outputs": []
    },
    {
      "cell_type": "code",
      "metadata": {
        "id": "HTTlPL2en-4Y"
      },
      "source": [
        "dataset=data.copy()"
      ],
      "execution_count": null,
      "outputs": []
    },
    {
      "cell_type": "code",
      "metadata": {
        "colab": {
          "base_uri": "https://localhost:8080/"
        },
        "id": "Jcj2gs22-1DS",
        "outputId": "0212cf58-1ca9-433f-8539-b46b6a7b8c7e"
      },
      "source": [
        "dataset['id'].nunique()/(len(dataset))"
      ],
      "execution_count": null,
      "outputs": [
        {
          "output_type": "execute_result",
          "data": {
            "text/plain": [
              "1.0"
            ]
          },
          "metadata": {},
          "execution_count": 7
        }
      ]
    },
    {
      "cell_type": "code",
      "metadata": {
        "id": "lcvRBDTO3yFt"
      },
      "source": [
        "dataset.set_index('id', inplace= True)"
      ],
      "execution_count": null,
      "outputs": []
    },
    {
      "cell_type": "code",
      "metadata": {
        "colab": {
          "base_uri": "https://localhost:8080/",
          "height": 233
        },
        "id": "EfUOSddv3dUP",
        "outputId": "9b0d4f4e-68dd-4d9d-9281-c7cf5523becd"
      },
      "source": [
        "dataset.head()"
      ],
      "execution_count": null,
      "outputs": [
        {
          "output_type": "execute_result",
          "data": {
            "text/html": [
              "<div>\n",
              "<style scoped>\n",
              "    .dataframe tbody tr th:only-of-type {\n",
              "        vertical-align: middle;\n",
              "    }\n",
              "\n",
              "    .dataframe tbody tr th {\n",
              "        vertical-align: top;\n",
              "    }\n",
              "\n",
              "    .dataframe thead th {\n",
              "        text-align: right;\n",
              "    }\n",
              "</style>\n",
              "<table border=\"1\" class=\"dataframe\">\n",
              "  <thead>\n",
              "    <tr style=\"text-align: right;\">\n",
              "      <th></th>\n",
              "      <th>Gender</th>\n",
              "      <th>Age</th>\n",
              "      <th>Driving_License</th>\n",
              "      <th>Region_Code</th>\n",
              "      <th>Previously_Insured</th>\n",
              "      <th>Vehicle_Age</th>\n",
              "      <th>Vehicle_Damage</th>\n",
              "      <th>Annual_Premium</th>\n",
              "      <th>Policy_Sales_Channel</th>\n",
              "      <th>Vintage</th>\n",
              "      <th>Response</th>\n",
              "    </tr>\n",
              "    <tr>\n",
              "      <th>id</th>\n",
              "      <th></th>\n",
              "      <th></th>\n",
              "      <th></th>\n",
              "      <th></th>\n",
              "      <th></th>\n",
              "      <th></th>\n",
              "      <th></th>\n",
              "      <th></th>\n",
              "      <th></th>\n",
              "      <th></th>\n",
              "      <th></th>\n",
              "    </tr>\n",
              "  </thead>\n",
              "  <tbody>\n",
              "    <tr>\n",
              "      <th>1</th>\n",
              "      <td>Male</td>\n",
              "      <td>44</td>\n",
              "      <td>1</td>\n",
              "      <td>28.0</td>\n",
              "      <td>0</td>\n",
              "      <td>&gt; 2 Years</td>\n",
              "      <td>Yes</td>\n",
              "      <td>40454.0</td>\n",
              "      <td>26.0</td>\n",
              "      <td>217</td>\n",
              "      <td>1</td>\n",
              "    </tr>\n",
              "    <tr>\n",
              "      <th>2</th>\n",
              "      <td>Male</td>\n",
              "      <td>76</td>\n",
              "      <td>1</td>\n",
              "      <td>3.0</td>\n",
              "      <td>0</td>\n",
              "      <td>1-2 Year</td>\n",
              "      <td>No</td>\n",
              "      <td>33536.0</td>\n",
              "      <td>26.0</td>\n",
              "      <td>183</td>\n",
              "      <td>0</td>\n",
              "    </tr>\n",
              "    <tr>\n",
              "      <th>3</th>\n",
              "      <td>Male</td>\n",
              "      <td>47</td>\n",
              "      <td>1</td>\n",
              "      <td>28.0</td>\n",
              "      <td>0</td>\n",
              "      <td>&gt; 2 Years</td>\n",
              "      <td>Yes</td>\n",
              "      <td>38294.0</td>\n",
              "      <td>26.0</td>\n",
              "      <td>27</td>\n",
              "      <td>1</td>\n",
              "    </tr>\n",
              "    <tr>\n",
              "      <th>4</th>\n",
              "      <td>Male</td>\n",
              "      <td>21</td>\n",
              "      <td>1</td>\n",
              "      <td>11.0</td>\n",
              "      <td>1</td>\n",
              "      <td>&lt; 1 Year</td>\n",
              "      <td>No</td>\n",
              "      <td>28619.0</td>\n",
              "      <td>152.0</td>\n",
              "      <td>203</td>\n",
              "      <td>0</td>\n",
              "    </tr>\n",
              "    <tr>\n",
              "      <th>5</th>\n",
              "      <td>Female</td>\n",
              "      <td>29</td>\n",
              "      <td>1</td>\n",
              "      <td>41.0</td>\n",
              "      <td>1</td>\n",
              "      <td>&lt; 1 Year</td>\n",
              "      <td>No</td>\n",
              "      <td>27496.0</td>\n",
              "      <td>152.0</td>\n",
              "      <td>39</td>\n",
              "      <td>0</td>\n",
              "    </tr>\n",
              "  </tbody>\n",
              "</table>\n",
              "</div>"
            ],
            "text/plain": [
              "    Gender  Age  Driving_License  ...  Policy_Sales_Channel  Vintage Response\n",
              "id                                ...                                        \n",
              "1     Male   44                1  ...                  26.0      217        1\n",
              "2     Male   76                1  ...                  26.0      183        0\n",
              "3     Male   47                1  ...                  26.0       27        1\n",
              "4     Male   21                1  ...                 152.0      203        0\n",
              "5   Female   29                1  ...                 152.0       39        0\n",
              "\n",
              "[5 rows x 11 columns]"
            ]
          },
          "metadata": {},
          "execution_count": 9
        }
      ]
    },
    {
      "cell_type": "code",
      "metadata": {
        "colab": {
          "base_uri": "https://localhost:8080/"
        },
        "id": "x4G8UsVP3w6s",
        "outputId": "382a67bf-b43d-47dc-eaaa-4c2af748f23c"
      },
      "source": [
        "dataset.info()"
      ],
      "execution_count": null,
      "outputs": [
        {
          "output_type": "stream",
          "name": "stdout",
          "text": [
            "<class 'pandas.core.frame.DataFrame'>\n",
            "Int64Index: 381109 entries, 1 to 381109\n",
            "Data columns (total 11 columns):\n",
            " #   Column                Non-Null Count   Dtype  \n",
            "---  ------                --------------   -----  \n",
            " 0   Gender                381109 non-null  object \n",
            " 1   Age                   381109 non-null  int64  \n",
            " 2   Driving_License       381109 non-null  int64  \n",
            " 3   Region_Code           381109 non-null  float64\n",
            " 4   Previously_Insured    381109 non-null  int64  \n",
            " 5   Vehicle_Age           381109 non-null  object \n",
            " 6   Vehicle_Damage        381109 non-null  object \n",
            " 7   Annual_Premium        381109 non-null  float64\n",
            " 8   Policy_Sales_Channel  381109 non-null  float64\n",
            " 9   Vintage               381109 non-null  int64  \n",
            " 10  Response              381109 non-null  int64  \n",
            "dtypes: float64(3), int64(5), object(3)\n",
            "memory usage: 34.9+ MB\n"
          ]
        }
      ]
    },
    {
      "cell_type": "code",
      "metadata": {
        "id": "r96oET-_4o54",
        "colab": {
          "base_uri": "https://localhost:8080/"
        },
        "outputId": "ecf774da-3cc4-4873-bb6f-49e9612af54a"
      },
      "source": [
        "dataset.isnull().sum()"
      ],
      "execution_count": null,
      "outputs": [
        {
          "output_type": "execute_result",
          "data": {
            "text/plain": [
              "Gender                  0\n",
              "Age                     0\n",
              "Driving_License         0\n",
              "Region_Code             0\n",
              "Previously_Insured      0\n",
              "Vehicle_Age             0\n",
              "Vehicle_Damage          0\n",
              "Annual_Premium          0\n",
              "Policy_Sales_Channel    0\n",
              "Vintage                 0\n",
              "Response                0\n",
              "dtype: int64"
            ]
          },
          "metadata": {},
          "execution_count": 11
        }
      ]
    },
    {
      "cell_type": "markdown",
      "metadata": {
        "id": "5bkGRl3xQJnQ"
      },
      "source": [
        "*  There is no missing value in the data\n",
        "*  By looking at the info of the dataset we can get a rough idea on the numeric and the string columns"
      ]
    },
    {
      "cell_type": "markdown",
      "metadata": {
        "id": "CAMaaq5YQJnQ"
      },
      "source": [
        "* By looking at the summary of the data we can infer the mean,standard deviation, min and max of the \n",
        "* We will be able to get a idea on the outliers here by the percentiles ( In the Annual_Premium the 99th percentile is 72963 and the \n",
        "  max is 540165 this represents the outliers in this column)"
      ]
    },
    {
      "cell_type": "code",
      "metadata": {
        "trusted": true,
        "id": "Pa6HMyutQJnQ",
        "colab": {
          "base_uri": "https://localhost:8080/",
          "height": 294
        },
        "outputId": "36f17f57-d701-4bee-b144-fda2905daf72"
      },
      "source": [
        "dataset.describe(percentiles = [.25,.50,.75,.95,.99]).T"
      ],
      "execution_count": null,
      "outputs": [
        {
          "output_type": "execute_result",
          "data": {
            "text/html": [
              "<div>\n",
              "<style scoped>\n",
              "    .dataframe tbody tr th:only-of-type {\n",
              "        vertical-align: middle;\n",
              "    }\n",
              "\n",
              "    .dataframe tbody tr th {\n",
              "        vertical-align: top;\n",
              "    }\n",
              "\n",
              "    .dataframe thead th {\n",
              "        text-align: right;\n",
              "    }\n",
              "</style>\n",
              "<table border=\"1\" class=\"dataframe\">\n",
              "  <thead>\n",
              "    <tr style=\"text-align: right;\">\n",
              "      <th></th>\n",
              "      <th>count</th>\n",
              "      <th>mean</th>\n",
              "      <th>std</th>\n",
              "      <th>min</th>\n",
              "      <th>25%</th>\n",
              "      <th>50%</th>\n",
              "      <th>75%</th>\n",
              "      <th>95%</th>\n",
              "      <th>99%</th>\n",
              "      <th>max</th>\n",
              "    </tr>\n",
              "  </thead>\n",
              "  <tbody>\n",
              "    <tr>\n",
              "      <th>Age</th>\n",
              "      <td>381109.0</td>\n",
              "      <td>38.822584</td>\n",
              "      <td>15.511611</td>\n",
              "      <td>20.0</td>\n",
              "      <td>25.0</td>\n",
              "      <td>36.0</td>\n",
              "      <td>49.0</td>\n",
              "      <td>69.0</td>\n",
              "      <td>77.0</td>\n",
              "      <td>85.0</td>\n",
              "    </tr>\n",
              "    <tr>\n",
              "      <th>Driving_License</th>\n",
              "      <td>381109.0</td>\n",
              "      <td>0.997869</td>\n",
              "      <td>0.046110</td>\n",
              "      <td>0.0</td>\n",
              "      <td>1.0</td>\n",
              "      <td>1.0</td>\n",
              "      <td>1.0</td>\n",
              "      <td>1.0</td>\n",
              "      <td>1.0</td>\n",
              "      <td>1.0</td>\n",
              "    </tr>\n",
              "    <tr>\n",
              "      <th>Region_Code</th>\n",
              "      <td>381109.0</td>\n",
              "      <td>26.388807</td>\n",
              "      <td>13.229888</td>\n",
              "      <td>0.0</td>\n",
              "      <td>15.0</td>\n",
              "      <td>28.0</td>\n",
              "      <td>35.0</td>\n",
              "      <td>47.0</td>\n",
              "      <td>50.0</td>\n",
              "      <td>52.0</td>\n",
              "    </tr>\n",
              "    <tr>\n",
              "      <th>Previously_Insured</th>\n",
              "      <td>381109.0</td>\n",
              "      <td>0.458210</td>\n",
              "      <td>0.498251</td>\n",
              "      <td>0.0</td>\n",
              "      <td>0.0</td>\n",
              "      <td>0.0</td>\n",
              "      <td>1.0</td>\n",
              "      <td>1.0</td>\n",
              "      <td>1.0</td>\n",
              "      <td>1.0</td>\n",
              "    </tr>\n",
              "    <tr>\n",
              "      <th>Annual_Premium</th>\n",
              "      <td>381109.0</td>\n",
              "      <td>30564.389581</td>\n",
              "      <td>17213.155057</td>\n",
              "      <td>2630.0</td>\n",
              "      <td>24405.0</td>\n",
              "      <td>31669.0</td>\n",
              "      <td>39400.0</td>\n",
              "      <td>55176.0</td>\n",
              "      <td>72963.0</td>\n",
              "      <td>540165.0</td>\n",
              "    </tr>\n",
              "    <tr>\n",
              "      <th>Policy_Sales_Channel</th>\n",
              "      <td>381109.0</td>\n",
              "      <td>112.034295</td>\n",
              "      <td>54.203995</td>\n",
              "      <td>1.0</td>\n",
              "      <td>29.0</td>\n",
              "      <td>133.0</td>\n",
              "      <td>152.0</td>\n",
              "      <td>160.0</td>\n",
              "      <td>160.0</td>\n",
              "      <td>163.0</td>\n",
              "    </tr>\n",
              "    <tr>\n",
              "      <th>Vintage</th>\n",
              "      <td>381109.0</td>\n",
              "      <td>154.347397</td>\n",
              "      <td>83.671304</td>\n",
              "      <td>10.0</td>\n",
              "      <td>82.0</td>\n",
              "      <td>154.0</td>\n",
              "      <td>227.0</td>\n",
              "      <td>285.0</td>\n",
              "      <td>297.0</td>\n",
              "      <td>299.0</td>\n",
              "    </tr>\n",
              "    <tr>\n",
              "      <th>Response</th>\n",
              "      <td>381109.0</td>\n",
              "      <td>0.122563</td>\n",
              "      <td>0.327936</td>\n",
              "      <td>0.0</td>\n",
              "      <td>0.0</td>\n",
              "      <td>0.0</td>\n",
              "      <td>0.0</td>\n",
              "      <td>1.0</td>\n",
              "      <td>1.0</td>\n",
              "      <td>1.0</td>\n",
              "    </tr>\n",
              "  </tbody>\n",
              "</table>\n",
              "</div>"
            ],
            "text/plain": [
              "                         count          mean  ...      99%       max\n",
              "Age                   381109.0     38.822584  ...     77.0      85.0\n",
              "Driving_License       381109.0      0.997869  ...      1.0       1.0\n",
              "Region_Code           381109.0     26.388807  ...     50.0      52.0\n",
              "Previously_Insured    381109.0      0.458210  ...      1.0       1.0\n",
              "Annual_Premium        381109.0  30564.389581  ...  72963.0  540165.0\n",
              "Policy_Sales_Channel  381109.0    112.034295  ...    160.0     163.0\n",
              "Vintage               381109.0    154.347397  ...    297.0     299.0\n",
              "Response              381109.0      0.122563  ...      1.0       1.0\n",
              "\n",
              "[8 rows x 10 columns]"
            ]
          },
          "metadata": {},
          "execution_count": 12
        }
      ]
    },
    {
      "cell_type": "code",
      "metadata": {
        "trusted": true,
        "id": "ynXsnzchQKn7"
      },
      "source": [
        "numerical_features = ['Age','Vintage','Annual_Premium', 'Vehicle_Age']\n",
        "binary_features =  ['Gender', 'Driving_License', 'Previously_Insured','Vehicle_Damage']\n",
        "categorical_features =['Region_Code','Policy_Sales_Channel']\n",
        "target = ['Response']"
      ],
      "execution_count": null,
      "outputs": []
    },
    {
      "cell_type": "markdown",
      "metadata": {
        "id": "axkf1lYyQKn7"
      },
      "source": [
        "## <font size=\"+3\" color='#540b11'><b> Data Preparation and Cleaning </b> </font>\n",
        "\n",
        "\n"
      ]
    },
    {
      "cell_type": "code",
      "metadata": {
        "trusted": true,
        "id": "8YDSbW81QKn8"
      },
      "source": [
        "dataset['Annual_Premium'] = dataset['Annual_Premium'].astype('int64')\n",
        "dataset['Policy_Sales_Channel'] = dataset['Policy_Sales_Channel'].astype('int64')\n",
        "dataset['Region_Code'] = dataset['Region_Code'].astype('int64')\n"
      ],
      "execution_count": null,
      "outputs": []
    },
    {
      "cell_type": "code",
      "metadata": {
        "id": "d4SsoQAbnWA5"
      },
      "source": [
        "for column in categorical_features:\n",
        "    dataset[column] = dataset[column].astype('str')"
      ],
      "execution_count": null,
      "outputs": []
    },
    {
      "cell_type": "code",
      "metadata": {
        "colab": {
          "base_uri": "https://localhost:8080/"
        },
        "id": "I0g4r1fUmxz7",
        "outputId": "044265e8-b004-4e14-c4d4-e8748d07c5a6"
      },
      "source": [
        "dataset.info()\n"
      ],
      "execution_count": null,
      "outputs": [
        {
          "output_type": "stream",
          "name": "stdout",
          "text": [
            "<class 'pandas.core.frame.DataFrame'>\n",
            "Int64Index: 381109 entries, 1 to 381109\n",
            "Data columns (total 11 columns):\n",
            " #   Column                Non-Null Count   Dtype \n",
            "---  ------                --------------   ----- \n",
            " 0   Gender                381109 non-null  object\n",
            " 1   Age                   381109 non-null  int64 \n",
            " 2   Driving_License       381109 non-null  int64 \n",
            " 3   Region_Code           381109 non-null  object\n",
            " 4   Previously_Insured    381109 non-null  int64 \n",
            " 5   Vehicle_Age           381109 non-null  object\n",
            " 6   Vehicle_Damage        381109 non-null  object\n",
            " 7   Annual_Premium        381109 non-null  int64 \n",
            " 8   Policy_Sales_Channel  381109 non-null  object\n",
            " 9   Vintage               381109 non-null  int64 \n",
            " 10  Response              381109 non-null  int64 \n",
            "dtypes: int64(6), object(5)\n",
            "memory usage: 34.9+ MB\n"
          ]
        }
      ]
    },
    {
      "cell_type": "code",
      "metadata": {
        "colab": {
          "base_uri": "https://localhost:8080/",
          "height": 386
        },
        "id": "1gYwgOmUnabO",
        "outputId": "c9f4bb9c-cff5-4654-a172-6e434064fd73"
      },
      "source": [
        "dataset.head(10)"
      ],
      "execution_count": null,
      "outputs": [
        {
          "output_type": "execute_result",
          "data": {
            "text/html": [
              "<div>\n",
              "<style scoped>\n",
              "    .dataframe tbody tr th:only-of-type {\n",
              "        vertical-align: middle;\n",
              "    }\n",
              "\n",
              "    .dataframe tbody tr th {\n",
              "        vertical-align: top;\n",
              "    }\n",
              "\n",
              "    .dataframe thead th {\n",
              "        text-align: right;\n",
              "    }\n",
              "</style>\n",
              "<table border=\"1\" class=\"dataframe\">\n",
              "  <thead>\n",
              "    <tr style=\"text-align: right;\">\n",
              "      <th></th>\n",
              "      <th>Gender</th>\n",
              "      <th>Age</th>\n",
              "      <th>Driving_License</th>\n",
              "      <th>Region_Code</th>\n",
              "      <th>Previously_Insured</th>\n",
              "      <th>Vehicle_Age</th>\n",
              "      <th>Vehicle_Damage</th>\n",
              "      <th>Annual_Premium</th>\n",
              "      <th>Policy_Sales_Channel</th>\n",
              "      <th>Vintage</th>\n",
              "      <th>Response</th>\n",
              "    </tr>\n",
              "    <tr>\n",
              "      <th>id</th>\n",
              "      <th></th>\n",
              "      <th></th>\n",
              "      <th></th>\n",
              "      <th></th>\n",
              "      <th></th>\n",
              "      <th></th>\n",
              "      <th></th>\n",
              "      <th></th>\n",
              "      <th></th>\n",
              "      <th></th>\n",
              "      <th></th>\n",
              "    </tr>\n",
              "  </thead>\n",
              "  <tbody>\n",
              "    <tr>\n",
              "      <th>1</th>\n",
              "      <td>Male</td>\n",
              "      <td>44</td>\n",
              "      <td>1</td>\n",
              "      <td>28</td>\n",
              "      <td>0</td>\n",
              "      <td>&gt; 2 Years</td>\n",
              "      <td>Yes</td>\n",
              "      <td>40454</td>\n",
              "      <td>26</td>\n",
              "      <td>217</td>\n",
              "      <td>1</td>\n",
              "    </tr>\n",
              "    <tr>\n",
              "      <th>2</th>\n",
              "      <td>Male</td>\n",
              "      <td>76</td>\n",
              "      <td>1</td>\n",
              "      <td>3</td>\n",
              "      <td>0</td>\n",
              "      <td>1-2 Year</td>\n",
              "      <td>No</td>\n",
              "      <td>33536</td>\n",
              "      <td>26</td>\n",
              "      <td>183</td>\n",
              "      <td>0</td>\n",
              "    </tr>\n",
              "    <tr>\n",
              "      <th>3</th>\n",
              "      <td>Male</td>\n",
              "      <td>47</td>\n",
              "      <td>1</td>\n",
              "      <td>28</td>\n",
              "      <td>0</td>\n",
              "      <td>&gt; 2 Years</td>\n",
              "      <td>Yes</td>\n",
              "      <td>38294</td>\n",
              "      <td>26</td>\n",
              "      <td>27</td>\n",
              "      <td>1</td>\n",
              "    </tr>\n",
              "    <tr>\n",
              "      <th>4</th>\n",
              "      <td>Male</td>\n",
              "      <td>21</td>\n",
              "      <td>1</td>\n",
              "      <td>11</td>\n",
              "      <td>1</td>\n",
              "      <td>&lt; 1 Year</td>\n",
              "      <td>No</td>\n",
              "      <td>28619</td>\n",
              "      <td>152</td>\n",
              "      <td>203</td>\n",
              "      <td>0</td>\n",
              "    </tr>\n",
              "    <tr>\n",
              "      <th>5</th>\n",
              "      <td>Female</td>\n",
              "      <td>29</td>\n",
              "      <td>1</td>\n",
              "      <td>41</td>\n",
              "      <td>1</td>\n",
              "      <td>&lt; 1 Year</td>\n",
              "      <td>No</td>\n",
              "      <td>27496</td>\n",
              "      <td>152</td>\n",
              "      <td>39</td>\n",
              "      <td>0</td>\n",
              "    </tr>\n",
              "    <tr>\n",
              "      <th>6</th>\n",
              "      <td>Female</td>\n",
              "      <td>24</td>\n",
              "      <td>1</td>\n",
              "      <td>33</td>\n",
              "      <td>0</td>\n",
              "      <td>&lt; 1 Year</td>\n",
              "      <td>Yes</td>\n",
              "      <td>2630</td>\n",
              "      <td>160</td>\n",
              "      <td>176</td>\n",
              "      <td>0</td>\n",
              "    </tr>\n",
              "    <tr>\n",
              "      <th>7</th>\n",
              "      <td>Male</td>\n",
              "      <td>23</td>\n",
              "      <td>1</td>\n",
              "      <td>11</td>\n",
              "      <td>0</td>\n",
              "      <td>&lt; 1 Year</td>\n",
              "      <td>Yes</td>\n",
              "      <td>23367</td>\n",
              "      <td>152</td>\n",
              "      <td>249</td>\n",
              "      <td>0</td>\n",
              "    </tr>\n",
              "    <tr>\n",
              "      <th>8</th>\n",
              "      <td>Female</td>\n",
              "      <td>56</td>\n",
              "      <td>1</td>\n",
              "      <td>28</td>\n",
              "      <td>0</td>\n",
              "      <td>1-2 Year</td>\n",
              "      <td>Yes</td>\n",
              "      <td>32031</td>\n",
              "      <td>26</td>\n",
              "      <td>72</td>\n",
              "      <td>1</td>\n",
              "    </tr>\n",
              "    <tr>\n",
              "      <th>9</th>\n",
              "      <td>Female</td>\n",
              "      <td>24</td>\n",
              "      <td>1</td>\n",
              "      <td>3</td>\n",
              "      <td>1</td>\n",
              "      <td>&lt; 1 Year</td>\n",
              "      <td>No</td>\n",
              "      <td>27619</td>\n",
              "      <td>152</td>\n",
              "      <td>28</td>\n",
              "      <td>0</td>\n",
              "    </tr>\n",
              "    <tr>\n",
              "      <th>10</th>\n",
              "      <td>Female</td>\n",
              "      <td>32</td>\n",
              "      <td>1</td>\n",
              "      <td>6</td>\n",
              "      <td>1</td>\n",
              "      <td>&lt; 1 Year</td>\n",
              "      <td>No</td>\n",
              "      <td>28771</td>\n",
              "      <td>152</td>\n",
              "      <td>80</td>\n",
              "      <td>0</td>\n",
              "    </tr>\n",
              "  </tbody>\n",
              "</table>\n",
              "</div>"
            ],
            "text/plain": [
              "    Gender  Age  Driving_License  ... Policy_Sales_Channel  Vintage Response\n",
              "id                                ...                                       \n",
              "1     Male   44                1  ...                   26      217        1\n",
              "2     Male   76                1  ...                   26      183        0\n",
              "3     Male   47                1  ...                   26       27        1\n",
              "4     Male   21                1  ...                  152      203        0\n",
              "5   Female   29                1  ...                  152       39        0\n",
              "6   Female   24                1  ...                  160      176        0\n",
              "7     Male   23                1  ...                  152      249        0\n",
              "8   Female   56                1  ...                   26       72        1\n",
              "9   Female   24                1  ...                  152       28        0\n",
              "10  Female   32                1  ...                  152       80        0\n",
              "\n",
              "[10 rows x 11 columns]"
            ]
          },
          "metadata": {},
          "execution_count": 17
        }
      ]
    },
    {
      "cell_type": "markdown",
      "metadata": {
        "id": "dRIR0D3FQKn3"
      },
      "source": [
        "## <font size=\"+3\" color='#540b11'><b> Exploratory Data Analysis </b></font>"
      ]
    },
    {
      "cell_type": "markdown",
      "metadata": {
        "papermill": {
          "duration": 0.046808,
          "end_time": "2021-08-16T14:48:43.118757",
          "exception": false,
          "start_time": "2021-08-16T14:48:43.071949",
          "status": "completed"
        },
        "tags": [],
        "id": "1060c7ff"
      },
      "source": [
        "## Light Data Exploration\n",
        "### 1) For numeric data \n",
        "* Made histograms to understand distributions \n",
        "* Corrplot \n",
        "* Pivot table comparing survival rate across numeric variables \n",
        "\n",
        "\n",
        "### 2) For Categorical Data \n",
        "* Made bar charts to understand balance of classes \n",
        "* Made pivot tables to understand relationship with survival "
      ]
    },
    {
      "cell_type": "code",
      "metadata": {
        "execution": {
          "iopub.execute_input": "2021-08-16T14:48:44.883181Z",
          "iopub.status.busy": "2021-08-16T14:48:44.882470Z",
          "iopub.status.idle": "2021-08-16T14:48:44.940111Z",
          "shell.execute_reply": "2021-08-16T14:48:44.940611Z",
          "shell.execute_reply.started": "2021-08-16T06:45:35.400645Z"
        },
        "papermill": {
          "duration": 0.132893,
          "end_time": "2021-08-16T14:48:44.940813",
          "exception": false,
          "start_time": "2021-08-16T14:48:44.807920",
          "status": "completed"
        },
        "tags": [],
        "id": "ef6c0f45",
        "colab": {
          "base_uri": "https://localhost:8080/",
          "height": 172
        },
        "outputId": "b2674849-5576-43f9-f202-7b9cc4ddd126"
      },
      "source": [
        "pd.pivot_table( dataset, index='Response', values=numerical_features , aggfunc=['mean','median'] )  #Edit"
      ],
      "execution_count": null,
      "outputs": [
        {
          "output_type": "execute_result",
          "data": {
            "text/html": [
              "<div>\n",
              "<style scoped>\n",
              "    .dataframe tbody tr th:only-of-type {\n",
              "        vertical-align: middle;\n",
              "    }\n",
              "\n",
              "    .dataframe tbody tr th {\n",
              "        vertical-align: top;\n",
              "    }\n",
              "\n",
              "    .dataframe thead tr th {\n",
              "        text-align: left;\n",
              "    }\n",
              "\n",
              "    .dataframe thead tr:last-of-type th {\n",
              "        text-align: right;\n",
              "    }\n",
              "</style>\n",
              "<table border=\"1\" class=\"dataframe\">\n",
              "  <thead>\n",
              "    <tr>\n",
              "      <th></th>\n",
              "      <th colspan=\"3\" halign=\"left\">mean</th>\n",
              "      <th colspan=\"3\" halign=\"left\">median</th>\n",
              "    </tr>\n",
              "    <tr>\n",
              "      <th></th>\n",
              "      <th>Age</th>\n",
              "      <th>Annual_Premium</th>\n",
              "      <th>Vintage</th>\n",
              "      <th>Age</th>\n",
              "      <th>Annual_Premium</th>\n",
              "      <th>Vintage</th>\n",
              "    </tr>\n",
              "    <tr>\n",
              "      <th>Response</th>\n",
              "      <th></th>\n",
              "      <th></th>\n",
              "      <th></th>\n",
              "      <th></th>\n",
              "      <th></th>\n",
              "      <th></th>\n",
              "    </tr>\n",
              "  </thead>\n",
              "  <tbody>\n",
              "    <tr>\n",
              "      <th>0</th>\n",
              "      <td>38.178227</td>\n",
              "      <td>30419.160276</td>\n",
              "      <td>154.380243</td>\n",
              "      <td>34</td>\n",
              "      <td>31504</td>\n",
              "      <td>154</td>\n",
              "    </tr>\n",
              "    <tr>\n",
              "      <th>1</th>\n",
              "      <td>43.435560</td>\n",
              "      <td>31604.092742</td>\n",
              "      <td>154.112246</td>\n",
              "      <td>43</td>\n",
              "      <td>33002</td>\n",
              "      <td>154</td>\n",
              "    </tr>\n",
              "  </tbody>\n",
              "</table>\n",
              "</div>"
            ],
            "text/plain": [
              "               mean                            median                       \n",
              "                Age Annual_Premium     Vintage    Age Annual_Premium Vintage\n",
              "Response                                                                    \n",
              "0         38.178227   30419.160276  154.380243     34          31504     154\n",
              "1         43.435560   31604.092742  154.112246     43          33002     154"
            ]
          },
          "metadata": {},
          "execution_count": 18
        }
      ]
    },
    {
      "cell_type": "code",
      "metadata": {
        "id": "J0ezB9WUPfn-",
        "colab": {
          "base_uri": "https://localhost:8080/",
          "height": 172
        },
        "outputId": "3467baae-a624-4c90-d923-460e73d04d22"
      },
      "source": [
        "pd.pivot_table( data, index='Response', values=categorical_features , aggfunc=['median'] )"
      ],
      "execution_count": null,
      "outputs": [
        {
          "output_type": "execute_result",
          "data": {
            "text/html": [
              "<div>\n",
              "<style scoped>\n",
              "    .dataframe tbody tr th:only-of-type {\n",
              "        vertical-align: middle;\n",
              "    }\n",
              "\n",
              "    .dataframe tbody tr th {\n",
              "        vertical-align: top;\n",
              "    }\n",
              "\n",
              "    .dataframe thead tr th {\n",
              "        text-align: left;\n",
              "    }\n",
              "\n",
              "    .dataframe thead tr:last-of-type th {\n",
              "        text-align: right;\n",
              "    }\n",
              "</style>\n",
              "<table border=\"1\" class=\"dataframe\">\n",
              "  <thead>\n",
              "    <tr>\n",
              "      <th></th>\n",
              "      <th colspan=\"2\" halign=\"left\">median</th>\n",
              "    </tr>\n",
              "    <tr>\n",
              "      <th></th>\n",
              "      <th>Policy_Sales_Channel</th>\n",
              "      <th>Region_Code</th>\n",
              "    </tr>\n",
              "    <tr>\n",
              "      <th>Response</th>\n",
              "      <th></th>\n",
              "      <th></th>\n",
              "    </tr>\n",
              "  </thead>\n",
              "  <tbody>\n",
              "    <tr>\n",
              "      <th>0</th>\n",
              "      <td>152.0</td>\n",
              "      <td>28.0</td>\n",
              "    </tr>\n",
              "    <tr>\n",
              "      <th>1</th>\n",
              "      <td>124.0</td>\n",
              "      <td>28.0</td>\n",
              "    </tr>\n",
              "  </tbody>\n",
              "</table>\n",
              "</div>"
            ],
            "text/plain": [
              "                       median            \n",
              "         Policy_Sales_Channel Region_Code\n",
              "Response                                 \n",
              "0                       152.0        28.0\n",
              "1                       124.0        28.0"
            ]
          },
          "metadata": {},
          "execution_count": 19
        }
      ]
    },
    {
      "cell_type": "code",
      "metadata": {
        "colab": {
          "base_uri": "https://localhost:8080/",
          "height": 569
        },
        "id": "RKr0W7quGDMf",
        "outputId": "7cfb6b27-d1f1-43d8-8893-69de088768b3"
      },
      "source": [
        "dataset.groupby('Response').apply(lambda x : x[numerical_features].describe() )"
      ],
      "execution_count": null,
      "outputs": [
        {
          "output_type": "execute_result",
          "data": {
            "text/html": [
              "<div>\n",
              "<style scoped>\n",
              "    .dataframe tbody tr th:only-of-type {\n",
              "        vertical-align: middle;\n",
              "    }\n",
              "\n",
              "    .dataframe tbody tr th {\n",
              "        vertical-align: top;\n",
              "    }\n",
              "\n",
              "    .dataframe thead th {\n",
              "        text-align: right;\n",
              "    }\n",
              "</style>\n",
              "<table border=\"1\" class=\"dataframe\">\n",
              "  <thead>\n",
              "    <tr style=\"text-align: right;\">\n",
              "      <th></th>\n",
              "      <th></th>\n",
              "      <th>Age</th>\n",
              "      <th>Vintage</th>\n",
              "      <th>Annual_Premium</th>\n",
              "    </tr>\n",
              "    <tr>\n",
              "      <th>Response</th>\n",
              "      <th></th>\n",
              "      <th></th>\n",
              "      <th></th>\n",
              "      <th></th>\n",
              "    </tr>\n",
              "  </thead>\n",
              "  <tbody>\n",
              "    <tr>\n",
              "      <th rowspan=\"8\" valign=\"top\">0</th>\n",
              "      <th>count</th>\n",
              "      <td>334399.000000</td>\n",
              "      <td>334399.000000</td>\n",
              "      <td>334399.000000</td>\n",
              "    </tr>\n",
              "    <tr>\n",
              "      <th>mean</th>\n",
              "      <td>38.178227</td>\n",
              "      <td>154.380243</td>\n",
              "      <td>30419.160276</td>\n",
              "    </tr>\n",
              "    <tr>\n",
              "      <th>std</th>\n",
              "      <td>15.816052</td>\n",
              "      <td>83.661975</td>\n",
              "      <td>16998.293197</td>\n",
              "    </tr>\n",
              "    <tr>\n",
              "      <th>min</th>\n",
              "      <td>20.000000</td>\n",
              "      <td>10.000000</td>\n",
              "      <td>2630.000000</td>\n",
              "    </tr>\n",
              "    <tr>\n",
              "      <th>25%</th>\n",
              "      <td>24.000000</td>\n",
              "      <td>82.000000</td>\n",
              "      <td>24351.000000</td>\n",
              "    </tr>\n",
              "    <tr>\n",
              "      <th>50%</th>\n",
              "      <td>34.000000</td>\n",
              "      <td>154.000000</td>\n",
              "      <td>31504.000000</td>\n",
              "    </tr>\n",
              "    <tr>\n",
              "      <th>75%</th>\n",
              "      <td>49.000000</td>\n",
              "      <td>227.000000</td>\n",
              "      <td>39120.000000</td>\n",
              "    </tr>\n",
              "    <tr>\n",
              "      <th>max</th>\n",
              "      <td>85.000000</td>\n",
              "      <td>299.000000</td>\n",
              "      <td>540165.000000</td>\n",
              "    </tr>\n",
              "    <tr>\n",
              "      <th rowspan=\"8\" valign=\"top\">1</th>\n",
              "      <th>count</th>\n",
              "      <td>46710.000000</td>\n",
              "      <td>46710.000000</td>\n",
              "      <td>46710.000000</td>\n",
              "    </tr>\n",
              "    <tr>\n",
              "      <th>mean</th>\n",
              "      <td>43.435560</td>\n",
              "      <td>154.112246</td>\n",
              "      <td>31604.092742</td>\n",
              "    </tr>\n",
              "    <tr>\n",
              "      <th>std</th>\n",
              "      <td>12.168924</td>\n",
              "      <td>83.738574</td>\n",
              "      <td>18646.508040</td>\n",
              "    </tr>\n",
              "    <tr>\n",
              "      <th>min</th>\n",
              "      <td>20.000000</td>\n",
              "      <td>10.000000</td>\n",
              "      <td>2630.000000</td>\n",
              "    </tr>\n",
              "    <tr>\n",
              "      <th>25%</th>\n",
              "      <td>35.000000</td>\n",
              "      <td>82.000000</td>\n",
              "      <td>24868.000000</td>\n",
              "    </tr>\n",
              "    <tr>\n",
              "      <th>50%</th>\n",
              "      <td>43.000000</td>\n",
              "      <td>154.000000</td>\n",
              "      <td>33002.000000</td>\n",
              "    </tr>\n",
              "    <tr>\n",
              "      <th>75%</th>\n",
              "      <td>51.000000</td>\n",
              "      <td>226.000000</td>\n",
              "      <td>41297.000000</td>\n",
              "    </tr>\n",
              "    <tr>\n",
              "      <th>max</th>\n",
              "      <td>83.000000</td>\n",
              "      <td>299.000000</td>\n",
              "      <td>540165.000000</td>\n",
              "    </tr>\n",
              "  </tbody>\n",
              "</table>\n",
              "</div>"
            ],
            "text/plain": [
              "                          Age        Vintage  Annual_Premium\n",
              "Response                                                    \n",
              "0        count  334399.000000  334399.000000   334399.000000\n",
              "         mean       38.178227     154.380243    30419.160276\n",
              "         std        15.816052      83.661975    16998.293197\n",
              "         min        20.000000      10.000000     2630.000000\n",
              "         25%        24.000000      82.000000    24351.000000\n",
              "         50%        34.000000     154.000000    31504.000000\n",
              "         75%        49.000000     227.000000    39120.000000\n",
              "         max        85.000000     299.000000   540165.000000\n",
              "1        count   46710.000000   46710.000000    46710.000000\n",
              "         mean       43.435560     154.112246    31604.092742\n",
              "         std        12.168924      83.738574    18646.508040\n",
              "         min        20.000000      10.000000     2630.000000\n",
              "         25%        35.000000      82.000000    24868.000000\n",
              "         50%        43.000000     154.000000    33002.000000\n",
              "         75%        51.000000     226.000000    41297.000000\n",
              "         max        83.000000     299.000000   540165.000000"
            ]
          },
          "metadata": {},
          "execution_count": 20
        }
      ]
    },
    {
      "cell_type": "code",
      "metadata": {
        "colab": {
          "base_uri": "https://localhost:8080/",
          "height": 325
        },
        "id": "zOSkOEXzE_Yc",
        "outputId": "d36b7834-f277-4435-a48f-56a5cc904432"
      },
      "source": [
        "dataset.groupby('Response').apply(lambda x : x[categorical_features].describe() )"
      ],
      "execution_count": null,
      "outputs": [
        {
          "output_type": "execute_result",
          "data": {
            "text/html": [
              "<div>\n",
              "<style scoped>\n",
              "    .dataframe tbody tr th:only-of-type {\n",
              "        vertical-align: middle;\n",
              "    }\n",
              "\n",
              "    .dataframe tbody tr th {\n",
              "        vertical-align: top;\n",
              "    }\n",
              "\n",
              "    .dataframe thead th {\n",
              "        text-align: right;\n",
              "    }\n",
              "</style>\n",
              "<table border=\"1\" class=\"dataframe\">\n",
              "  <thead>\n",
              "    <tr style=\"text-align: right;\">\n",
              "      <th></th>\n",
              "      <th></th>\n",
              "      <th>Region_Code</th>\n",
              "      <th>Policy_Sales_Channel</th>\n",
              "    </tr>\n",
              "    <tr>\n",
              "      <th>Response</th>\n",
              "      <th></th>\n",
              "      <th></th>\n",
              "      <th></th>\n",
              "    </tr>\n",
              "  </thead>\n",
              "  <tbody>\n",
              "    <tr>\n",
              "      <th rowspan=\"4\" valign=\"top\">0</th>\n",
              "      <th>count</th>\n",
              "      <td>334399</td>\n",
              "      <td>334399</td>\n",
              "    </tr>\n",
              "    <tr>\n",
              "      <th>unique</th>\n",
              "      <td>53</td>\n",
              "      <td>153</td>\n",
              "    </tr>\n",
              "    <tr>\n",
              "      <th>top</th>\n",
              "      <td>28</td>\n",
              "      <td>152</td>\n",
              "    </tr>\n",
              "    <tr>\n",
              "      <th>freq</th>\n",
              "      <td>86498</td>\n",
              "      <td>130926</td>\n",
              "    </tr>\n",
              "    <tr>\n",
              "      <th rowspan=\"4\" valign=\"top\">1</th>\n",
              "      <th>count</th>\n",
              "      <td>46710</td>\n",
              "      <td>46710</td>\n",
              "    </tr>\n",
              "    <tr>\n",
              "      <th>unique</th>\n",
              "      <td>53</td>\n",
              "      <td>121</td>\n",
              "    </tr>\n",
              "    <tr>\n",
              "      <th>top</th>\n",
              "      <td>28</td>\n",
              "      <td>26</td>\n",
              "    </tr>\n",
              "    <tr>\n",
              "      <th>freq</th>\n",
              "      <td>19917</td>\n",
              "      <td>15891</td>\n",
              "    </tr>\n",
              "  </tbody>\n",
              "</table>\n",
              "</div>"
            ],
            "text/plain": [
              "                Region_Code Policy_Sales_Channel\n",
              "Response                                        \n",
              "0        count       334399               334399\n",
              "         unique          53                  153\n",
              "         top             28                  152\n",
              "         freq         86498               130926\n",
              "1        count        46710                46710\n",
              "         unique          53                  121\n",
              "         top             28                   26\n",
              "         freq         19917                15891"
            ]
          },
          "metadata": {},
          "execution_count": 21
        }
      ]
    },
    {
      "cell_type": "code",
      "metadata": {
        "id": "CegCRC8DQDVD",
        "colab": {
          "base_uri": "https://localhost:8080/",
          "height": 141
        },
        "outputId": "80b30c15-7420-4047-aae8-c018fd247d52"
      },
      "source": [
        "pd.pivot_table( dataset, index='Response', values=binary_features , aggfunc='mean' )"
      ],
      "execution_count": null,
      "outputs": [
        {
          "output_type": "execute_result",
          "data": {
            "text/html": [
              "<div>\n",
              "<style scoped>\n",
              "    .dataframe tbody tr th:only-of-type {\n",
              "        vertical-align: middle;\n",
              "    }\n",
              "\n",
              "    .dataframe tbody tr th {\n",
              "        vertical-align: top;\n",
              "    }\n",
              "\n",
              "    .dataframe thead th {\n",
              "        text-align: right;\n",
              "    }\n",
              "</style>\n",
              "<table border=\"1\" class=\"dataframe\">\n",
              "  <thead>\n",
              "    <tr style=\"text-align: right;\">\n",
              "      <th></th>\n",
              "      <th>Driving_License</th>\n",
              "      <th>Previously_Insured</th>\n",
              "    </tr>\n",
              "    <tr>\n",
              "      <th>Response</th>\n",
              "      <th></th>\n",
              "      <th></th>\n",
              "    </tr>\n",
              "  </thead>\n",
              "  <tbody>\n",
              "    <tr>\n",
              "      <th>0</th>\n",
              "      <td>0.997694</td>\n",
              "      <td>0.521742</td>\n",
              "    </tr>\n",
              "    <tr>\n",
              "      <th>1</th>\n",
              "      <td>0.999122</td>\n",
              "      <td>0.003383</td>\n",
              "    </tr>\n",
              "  </tbody>\n",
              "</table>\n",
              "</div>"
            ],
            "text/plain": [
              "          Driving_License  Previously_Insured\n",
              "Response                                     \n",
              "0                0.997694            0.521742\n",
              "1                0.999122            0.003383"
            ]
          },
          "metadata": {},
          "execution_count": 22
        }
      ]
    },
    {
      "cell_type": "markdown",
      "metadata": {
        "id": "g86uVBkOQJnQ"
      },
      "source": [
        "# <span style = \"color:blue\">Variable wise EDA</span>"
      ]
    },
    {
      "cell_type": "markdown",
      "metadata": {
        "id": "bkl9d_fXQIhZ"
      },
      "source": [
        "Most of the vehicles of customers with response 1 are between the ages of 1-2 and their vehicles are damaged."
      ]
    },
    {
      "cell_type": "markdown",
      "metadata": {
        "id": "IA9_vWUSQKn4"
      },
      "source": [
        "## Target Variable (Response)"
      ]
    },
    {
      "cell_type": "code",
      "metadata": {
        "trusted": true,
        "id": "sG-ShWvfQIhZ",
        "colab": {
          "base_uri": "https://localhost:8080/"
        },
        "outputId": "0a1d4969-650a-442e-934f-d642a2526f7a"
      },
      "source": [
        "count_1 = dataset[dataset[\"Response\"] == 1].value_counts().sum()\n",
        "totalResponse = dataset[\"Response\"].value_counts().sum()\n",
        "print(\"The percentage of positive response in data is :\", round(count_1*100/totalResponse),\"%\")"
      ],
      "execution_count": null,
      "outputs": [
        {
          "output_type": "stream",
          "name": "stdout",
          "text": [
            "The percentage of positive response in data is : 12 %\n"
          ]
        }
      ]
    },
    {
      "cell_type": "code",
      "metadata": {
        "trusted": true,
        "id": "ZUXE7o7PQJnQ",
        "colab": {
          "base_uri": "https://localhost:8080/",
          "height": 554
        },
        "outputId": "1c002038-772b-4956-e3f7-a8a97312a1d8"
      },
      "source": [
        "plt.subplot(1, 2, 1)\n",
        "ax1=sns.countplot(dataset['Response'], palette=\"cool\")\n",
        "plt.title(\"Count of response (target variable)\")\n",
        "\n",
        "total=float(len(dataset)) \n",
        "\n",
        "plt.subplot(1,2,2)\n",
        "count = dataset['Response'].value_counts()\n",
        "count.plot.pie(autopct = '%1.1f%%',colors=['c','orange'], figsize = (10,7),explode = [0,0.1],title = \"pie chart of Percentage of target class\")\n",
        "\n",
        "print( \"Percentage of target class\\n\")\n",
        "print(dataset['Response'].value_counts()/len(dataset)*100)\n",
        "\n",
        "\n",
        "for p in ax1.patches:\n",
        "    height = p.get_height()\n",
        "    ax1.text(p.get_x()+p.get_width()/2., height + 3, '{:1.2f}'.format(height/total*100), ha=\"center\")\n"
      ],
      "execution_count": null,
      "outputs": [
        {
          "output_type": "stream",
          "name": "stdout",
          "text": [
            "Percentage of target class\n",
            "\n",
            "0    87.743664\n",
            "1    12.256336\n",
            "Name: Response, dtype: float64\n"
          ]
        },
        {
          "output_type": "display_data",
          "data": {
            "image/png": "[encoded data removed]",
            "text/plain": [
              "<Figure size 720x504 with 2 Axes>"
            ]
          },
          "metadata": {
            "needs_background": "light"
          }
        }
      ]
    },
    {
      "cell_type": "markdown",
      "metadata": {
        "id": "lZ_KpPl1QJnR"
      },
      "source": [
        "1. By the plot we can say that this is the problem of imbalance binary classification problem\n",
        "2. The indivisuals interested is 87 % as compared to the othe one."
      ]
    },
    {
      "cell_type": "markdown",
      "metadata": {
        "id": "uJIyrMjUQJnR"
      },
      "source": [
        "## <span style = \"color:blue\"> Age variable </span>"
      ]
    },
    {
      "cell_type": "code",
      "metadata": {
        "trusted": true,
        "id": "kLxu-gqJQJnS",
        "colab": {
          "base_uri": "https://localhost:8080/",
          "height": 253
        },
        "outputId": "a2c72ee0-4db7-4198-e15f-9df5d91684f4"
      },
      "source": [
        "plt.figure(figsize = (15,3))\n",
        "sns.countplot(dataset['Age'], palette = 'hsv')\n",
        "plt.title('Count of Age')\n",
        "plt.show()"
      ],
      "execution_count": null,
      "outputs": [
        {
          "output_type": "display_data",
          "data": {
            "image/png": "[encoded data removed]",
            "text/plain": [
              "<Figure size 1080x216 with 1 Axes>"
            ]
          },
          "metadata": {
            "needs_background": "light"
          }
        }
      ]
    },
    {
      "cell_type": "code",
      "metadata": {
        "trusted": true,
        "id": "bKFcK2ucQJnS",
        "colab": {
          "base_uri": "https://localhost:8080/",
          "height": 359
        },
        "outputId": "f3bbe00f-4f5b-450e-f5e1-6af9e6127aa9"
      },
      "source": [
        "\n",
        "f,ax = plt.subplots(nrows=1,ncols=2,figsize=(20,5))\n",
        "axx = ax.flatten()\n",
        "sns.distplot(dataset['Age'] ,ax = axx[0],color='Blue')\n",
        "sns.boxplot(dataset['Age'],ax = axx[1],color='Orange')"
      ],
      "execution_count": null,
      "outputs": [
        {
          "output_type": "execute_result",
          "data": {
            "text/plain": [
              "<matplotlib.axes._subplots.AxesSubplot at 0x7fb4bb726510>"
            ]
          },
          "metadata": {},
          "execution_count": 26
        },
        {
          "output_type": "display_data",
          "data": {
            "image/png": "[encoded data removed]",
            "text/plain": [
              "<Figure size 1440x360 with 2 Axes>"
            ]
          },
          "metadata": {
            "needs_background": "light"
          }
        }
      ]
    },
    {
      "cell_type": "code",
      "metadata": {
        "colab": {
          "base_uri": "https://localhost:8080/",
          "height": 361
        },
        "id": "bued1eQg_Jw0",
        "outputId": "97f63f16-c5be-46e6-de8e-e7096c9865ed"
      },
      "source": [
        "sns.FacetGrid(dataset ,hue='Response',size=5) \\\n",
        " .map(sns.distplot,\"Age\") \\\n",
        " .add_legend();\n",
        "plt.show()"
      ],
      "execution_count": null,
      "outputs": [
        {
          "output_type": "display_data",
          "data": {
            "image/png": "[encoded data removed]",
            "text/plain": [
              "<Figure size 438.575x360 with 1 Axes>"
            ]
          },
          "metadata": {
            "needs_background": "light"
          }
        }
      ]
    },
    {
      "cell_type": "markdown",
      "metadata": {
        "id": "cXDt6FQVQJnS"
      },
      "source": [
        "1. Count of the indivisuals with age 24 are greater in the dataset\n",
        "2. Variable Age looks like right skewed\n",
        "3. From the boxplot we observe that here is not serious outliers in the data "
      ]
    },
    {
      "cell_type": "markdown",
      "metadata": {
        "id": "jMYUuYtd0-x_"
      },
      "source": [
        "* Young people below 30 are not interested in vehicle insurance. Reasons could be lack of experience, less maturity level and they don't have expensive vehicles yet.\n",
        "* People aged between 30-60 are more likely to be interested.\n",
        "* From the boxplot we can see that there no outlier in the data."
      ]
    },
    {
      "cell_type": "markdown",
      "metadata": {
        "id": "fXZFO3EDQJnU"
      },
      "source": [
        "##  <span style = \"color:blue\">Annual_Premium</span> "
      ]
    },
    {
      "cell_type": "markdown",
      "metadata": {
        "id": "5MieDuizQJnU"
      },
      "source": [
        "* From the distribution plot we can infer that the annual premimum variable is right skewed\n",
        "* From the boxplot we can observe lot of outliers in the variable "
      ]
    },
    {
      "cell_type": "code",
      "metadata": {
        "id": "EjKHCL-bBben",
        "colab": {
          "base_uri": "https://localhost:8080/",
          "height": 509
        },
        "outputId": "fd6c36ef-b3d1-466a-a67f-facdc4c6fad0"
      },
      "source": [
        "plt.figure(figsize=(13,7))\n",
        "plt.subplot(2,1,1)\n",
        "sns.distplot(dataset['Annual_Premium'], color='green')\n",
        "plt.title(\"Distribution of Annual premium\")\n",
        "plt.show()\n",
        "plt.figure(figsize=(13,7))\n",
        "plt.subplot(2,1,2)\n",
        "sns.boxplot(dataset['Annual_Premium'])\n",
        "plt.title(\"boxplot of Annual premium\")\n",
        "plt.show()"
      ],
      "execution_count": null,
      "outputs": [
        {
          "output_type": "display_data",
          "data": {
            "image/png": "[encoded data removed]",
            "text/plain": [
              "<Figure size 936x504 with 1 Axes>"
            ]
          },
          "metadata": {
            "needs_background": "light"
          }
        },
        {
          "output_type": "display_data",
          "data": {
            "image/png": "[encoded data removed]",
            "text/plain": [
              "<Figure size 936x504 with 1 Axes>"
            ]
          },
          "metadata": {
            "needs_background": "light"
          }
        }
      ]
    },
    {
      "cell_type": "code",
      "metadata": {
        "id": "7gDfGz2ul-Hx"
      },
      "source": [
        "# plt.figure(figsize = (13,5))\n",
        "# plt.subplot(1,2,1)\n",
        "# sns.countplot(dataset['Annual_Premium'])\n",
        "# plt.title(\"count of male and female\")\n",
        "\n",
        "# plt.subplot(1,2,2)\n",
        "# sns.countplot(dataset['Annual_Premium'] , hue = dataset['Response'],palette=\"rocket_r\")\n",
        "# plt.title(\"Response in Male and female category\")\n",
        "# plt.show()"
      ],
      "execution_count": null,
      "outputs": []
    },
    {
      "cell_type": "markdown",
      "metadata": {
        "id": "euqvL1eJQJnR"
      },
      "source": [
        "## <span style = \"color:blue\">Gender variable</span>"
      ]
    },
    {
      "cell_type": "code",
      "metadata": {
        "trusted": true,
        "id": "J-dSYzLDQJnR",
        "colab": {
          "base_uri": "https://localhost:8080/",
          "height": 361
        },
        "outputId": "3c33605b-c7e0-4184-e25d-a5e2e198d744"
      },
      "source": [
        "plt.figure(figsize = (13,5))\n",
        "plt.subplot(1,2,1)\n",
        "plt.subplots_adjust(hspace = 5)\n",
        "\n",
        "ax1 = sns.countplot(dataset['Gender'],palette=\"rocket_r\")\n",
        "plt.title(\"count of male and female\")\n",
        "total=float(len(dataset))\n",
        "total_h=[]\n",
        "\n",
        "\n",
        "plt.subplot(1,2,2)\n",
        "ax2 = sns.countplot(dataset['Gender'], hue = dataset['Response'],palette=\"rocket_r\")\n",
        "plt.title(\"Response in Male and female category\")\n",
        "\n",
        "for i,p in enumerate(ax1.patches):\n",
        "    height = p.get_height()\n",
        "    total_h+=[height]\n",
        "    ax1.text(p.get_x()+p.get_width()/2., height + 3, '{:1.2f}'.format(height/total*100), ha=\"center\")\n",
        "total_h*=2\n",
        "for i,p in enumerate(ax2.patches):\n",
        "    height = p.get_height()\n",
        "    ax2.text(p.get_x()+p.get_width()/2., height + 3, '{:1.2f}'.format(height/total_h[i]*100), ha=\"center\")\n",
        "plt.tight_layout()\n",
        "plt.show()"
      ],
      "execution_count": null,
      "outputs": [
        {
          "output_type": "display_data",
          "data": {
            "image/png": "[encoded data removed]",
            "text/plain": [
              "<Figure size 936x360 with 2 Axes>"
            ]
          },
          "metadata": {
            "needs_background": "light"
          }
        }
      ]
    },
    {
      "cell_type": "markdown",
      "metadata": {
        "id": "J63iEBPgQJnR"
      },
      "source": [
        "1. The gender variable in the dataset is almost equally distributed\n",
        "2. Male category is slightly greater than that of female and chances of buying the insurance is also little high. "
      ]
    },
    {
      "cell_type": "markdown",
      "metadata": {
        "id": "277dtrBJQJnS"
      },
      "source": [
        "## <span style = \"color:blue\"> Driving License  </span> "
      ]
    },
    {
      "cell_type": "code",
      "metadata": {
        "trusted": true,
        "id": "_sb3VCAOQJnS",
        "colab": {
          "base_uri": "https://localhost:8080/",
          "height": 517
        },
        "outputId": "f3b130a8-4262-4294-e2a9-65d1e9446218"
      },
      "source": [
        "print(\"Percentage of  Driving_License feature\\n \")\n",
        "print(dataset['Driving_License'].value_counts()/len(dataset)*100)\n",
        "f,ax = plt.subplots(nrows=1,ncols=2,figsize=(12,6))\n",
        "axx = ax.flatten()\n",
        "total_h=[]\n",
        "\n",
        "plt.title(\"Count plot of Driving_License vs Response\")\n",
        "ax1 = sns.countplot(dataset['Driving_License'],ax = axx[0],palette = 'rocket')\n",
        "ax2 = sns.countplot('Driving_License', hue = 'Response',ax =axx[1],data = dataset,palette=\"rocket_r\")\n",
        "\n",
        "for i,p in enumerate(ax1.patches):\n",
        "    height = p.get_height()\n",
        "    total_h+=[height]\n",
        "    ax1.text(p.get_x()+p.get_width()/2., height + 3, '{:1.2f}'.format(height/total*100), ha=\"center\")\n",
        "total_h*=2\n",
        "\n",
        "for i,p in enumerate(ax2.patches):\n",
        "    height = p.get_height()\n",
        "    ax2.text(p.get_x()+p.get_width()/2., height + 3, '{:1.2f}'.format(height/total_h[i]*100), ha=\"center\")\n",
        "\n",
        "plt.tight_layout()\n",
        "\n"
      ],
      "execution_count": null,
      "outputs": [
        {
          "output_type": "stream",
          "name": "stdout",
          "text": [
            "Percentage of  Driving_License feature\n",
            " \n",
            "1    99.786938\n",
            "0     0.213062\n",
            "Name: Driving_License, dtype: float64\n"
          ]
        },
        {
          "output_type": "display_data",
          "data": {
            "image/png": "[encoded data removed]",
            "text/plain": [
              "<Figure size 864x432 with 2 Axes>"
            ]
          },
          "metadata": {
            "needs_background": "light"
          }
        }
      ]
    },
    {
      "cell_type": "markdown",
      "metadata": {
        "id": "7o_3dXJcQJnS"
      },
      "source": [
        "1. Customers who have the DL are 99% \n",
        "2. Customers who are interested in Vehicle Insurance almost all have driving license"
      ]
    },
    {
      "cell_type": "markdown",
      "metadata": {
        "id": "HKqg3WaRQJnT"
      },
      "source": [
        "##  <span style = \"color:blue\">Previously Insured   </span> "
      ]
    },
    {
      "cell_type": "code",
      "metadata": {
        "trusted": true,
        "id": "r9BmzwDGQJnT",
        "colab": {
          "base_uri": "https://localhost:8080/",
          "height": 444
        },
        "outputId": "480a4e87-c193-4fd7-ebe0-70d79070acea"
      },
      "source": [
        "print(\"Percentage ofPreviously_Insured feature\\n \")\n",
        "print(dataset['Previously_Insured'].value_counts()/len(dataset)*100)\n",
        "f,ax = plt.subplots(nrows=1,ncols=2,figsize=(12,5))\n",
        "axx = ax.flatten()\n",
        "ax1 = sns.countplot(dataset['Previously_Insured'],ax = axx[0],palette=\"rocket_r\")\n",
        "ax2 = sns.countplot('Previously_Insured', hue = 'Response',ax =axx[1],data = dataset,palette=\"rocket_r\")\n",
        "total_h=[]\n",
        "\n",
        "for i,p in enumerate(ax1.patches):\n",
        "    height = p.get_height()\n",
        "    total_h+=[height]\n",
        "    ax1.text(p.get_x()+p.get_width()/2., height + 3, '{:1.2f}'.format(height/total*100), ha=\"center\")\n",
        "total_h*=2\n",
        "\n",
        "for i,p in enumerate(ax2.patches):\n",
        "    height = p.get_height()\n",
        "    ax2.text(p.get_x()+p.get_width()/2., height + 3, '{:1.2f}'.format(height/total_h[i]*100), ha=\"center\")\n",
        "plt.tight_layout()\n"
      ],
      "execution_count": null,
      "outputs": [
        {
          "output_type": "stream",
          "name": "stdout",
          "text": [
            "Percentage ofPreviously_Insured feature\n",
            " \n",
            "0    54.178988\n",
            "1    45.821012\n",
            "Name: Previously_Insured, dtype: float64\n"
          ]
        },
        {
          "output_type": "display_data",
          "data": {
            "image/png": "[encoded data removed]",
            "text/plain": [
              "<Figure size 864x360 with 2 Axes>"
            ]
          },
          "metadata": {
            "needs_background": "light"
          }
        }
      ]
    },
    {
      "cell_type": "markdown",
      "metadata": {
        "id": "DmsrelYmQJnT"
      },
      "source": [
        "1. The variable perviosly insured almost has equal count \n",
        "2. Customer who are not perviosly insured are likely to be inetrested\n"
      ]
    },
    {
      "cell_type": "markdown",
      "metadata": {
        "id": "ZjCgTRAIQIhZ"
      },
      "source": [
        "Customers who were previously insured tend not to be interested. We can think that the reason for this is that their previous insurance agreement has not expired yet."
      ]
    },
    {
      "cell_type": "markdown",
      "metadata": {
        "id": "JgYIilTUQKn6"
      },
      "source": [
        "## Vehicle Age "
      ]
    },
    {
      "cell_type": "code",
      "metadata": {
        "trusted": true,
        "id": "6zcI7VeYQJnT",
        "colab": {
          "base_uri": "https://localhost:8080/",
          "height": 695
        },
        "outputId": "0c9eeac2-43d6-4303-cbc7-b3375d27c359"
      },
      "source": [
        "print(\"Percentage of vechicle age feature\\n \")\n",
        "print(dataset['Vehicle_Age'].value_counts()/len(dataset)*100)\n",
        "plt.figure(figsize = (13,5))\n",
        "plt.subplot(1,2,1)\n",
        "ax1 = sns.countplot(dataset['Vehicle_Age'],palette=\"rocket_r\")\n",
        "plt.title(\"Count plot of vechicle age\")\n",
        "plt.subplot(1,2,2)\n",
        "plt.title(\"Plot of vechicle age vs response\")\n",
        "ax2 = sns.countplot('Vehicle_Age', hue = 'Response',data = dataset ,palette=\"rocket_r\")\n",
        "total_h=[]\n",
        "\n",
        "for i,p in enumerate(ax1.patches):\n",
        "    height = p.get_height()\n",
        "    print(f'{height}\\n')\n",
        "    total_h+=[height]\n",
        "    ax1.text(p.get_x()+p.get_width()/2., height + 3, '{:1.2f}'.format(height/total*100), ha=\"center\")\n",
        "\n",
        "total_h*=2\n",
        "print(f'{total_h}\\n')\n",
        "for i,p in enumerate(ax2.patches):\n",
        "    height = p.get_height()\n",
        "    print(height)\n",
        "    ax2.text(p.get_x()+p.get_width()/2., height + 3, '{:1.2f}'.format(height/total_h[i]*100), ha=\"center\")\n",
        "plt.tight_layout()\n"
      ],
      "execution_count": null,
      "outputs": [
        {
          "output_type": "stream",
          "name": "stdout",
          "text": [
            "Percentage of vechicle age feature\n",
            " \n",
            "1-2 Year     52.561341\n",
            "< 1 Year     43.238549\n",
            "> 2 Years     4.200111\n",
            "Name: Vehicle_Age, dtype: float64\n",
            "16007\n",
            "\n",
            "200316\n",
            "\n",
            "164786\n",
            "\n",
            "[16007, 200316, 164786, 16007, 200316, 164786]\n",
            "\n",
            "11305\n",
            "165510\n",
            "157584\n",
            "4702\n",
            "34806\n",
            "7202\n"
          ]
        },
        {
          "output_type": "display_data",
          "data": {
            "image/png": "[encoded data removed]",
            "text/plain": [
              "<Figure size 936x360 with 2 Axes>"
            ]
          },
          "metadata": {
            "needs_background": "light"
          }
        }
      ]
    },
    {
      "cell_type": "code",
      "metadata": {
        "colab": {
          "base_uri": "https://localhost:8080/",
          "height": 172
        },
        "id": "fRSfQpjwIU-U",
        "outputId": "02ab9952-b5f8-4c86-f556-dc2fc22f28f3"
      },
      "source": [
        "dataset.groupby(['Vehicle_Age']).apply( lambda x : x['Response'].value_counts(normalize= True)*100)"
      ],
      "execution_count": null,
      "outputs": [
        {
          "output_type": "execute_result",
          "data": {
            "text/html": [
              "<div>\n",
              "<style scoped>\n",
              "    .dataframe tbody tr th:only-of-type {\n",
              "        vertical-align: middle;\n",
              "    }\n",
              "\n",
              "    .dataframe tbody tr th {\n",
              "        vertical-align: top;\n",
              "    }\n",
              "\n",
              "    .dataframe thead th {\n",
              "        text-align: right;\n",
              "    }\n",
              "</style>\n",
              "<table border=\"1\" class=\"dataframe\">\n",
              "  <thead>\n",
              "    <tr style=\"text-align: right;\">\n",
              "      <th>Response</th>\n",
              "      <th>0</th>\n",
              "      <th>1</th>\n",
              "    </tr>\n",
              "    <tr>\n",
              "      <th>Vehicle_Age</th>\n",
              "      <th></th>\n",
              "      <th></th>\n",
              "    </tr>\n",
              "  </thead>\n",
              "  <tbody>\n",
              "    <tr>\n",
              "      <th>1-2 Year</th>\n",
              "      <td>82.624453</td>\n",
              "      <td>17.375547</td>\n",
              "    </tr>\n",
              "    <tr>\n",
              "      <th>&lt; 1 Year</th>\n",
              "      <td>95.629483</td>\n",
              "      <td>4.370517</td>\n",
              "    </tr>\n",
              "    <tr>\n",
              "      <th>&gt; 2 Years</th>\n",
              "      <td>70.625351</td>\n",
              "      <td>29.374649</td>\n",
              "    </tr>\n",
              "  </tbody>\n",
              "</table>\n",
              "</div>"
            ],
            "text/plain": [
              "Response             0          1\n",
              "Vehicle_Age                      \n",
              "1-2 Year     82.624453  17.375547\n",
              "< 1 Year     95.629483   4.370517\n",
              "> 2 Years    70.625351  29.374649"
            ]
          },
          "metadata": {},
          "execution_count": 34
        }
      ]
    },
    {
      "cell_type": "markdown",
      "metadata": {
        "id": "TDHIP1RZQJnT"
      },
      "source": [
        "* There is very less number of customers with vechicle age less than 2 years\n",
        "* Customers with vechicle age 1-2 years are more likely to interested as compared to the other two"
      ]
    },
    {
      "cell_type": "markdown",
      "metadata": {
        "id": "KGdyt5pU_7Q6"
      },
      "source": [
        "* Customers with with Vehicle_Age <1 years have very less chance of buying Insurance"
      ]
    },
    {
      "cell_type": "code",
      "metadata": {
        "id": "FLTgaWM6cB0R"
      },
      "source": [
        "#sns.countplot('Response', hue = 'Vehicle_Age',data = dataset ,palette=\"cool\")\n"
      ],
      "execution_count": null,
      "outputs": []
    },
    {
      "cell_type": "markdown",
      "metadata": {
        "id": "oF9ILRBaQJnT"
      },
      "source": [
        "## <span style = \"color:blue\">Vechicle damage   </span> \n",
        "\n",
        "#### Customers having damaged vehicle"
      ]
    },
    {
      "cell_type": "code",
      "metadata": {
        "trusted": true,
        "id": "LhkkGnj9QJnT",
        "colab": {
          "base_uri": "https://localhost:8080/",
          "height": 444
        },
        "outputId": "70d2bf4b-b989-451f-f826-8958ef15a8a2"
      },
      "source": [
        "print(\"Percentage of vechicle damage feature\\n \")\n",
        "print(dataset['Vehicle_Damage'].value_counts()/len(dataset)*100)\n",
        "plt.figure(figsize = (13,5))\n",
        "plt.subplot(1,2,1)\n",
        "ax1 = sns.countplot(dataset['Vehicle_Damage'],palette=\"rocket_r\")\n",
        "plt.title(\"Count plot of Vehicle_Damage\")\n",
        "plt.subplot(1,2,2)\n",
        "plt.title(\"Plot of vechicle damage vs response\")\n",
        "ax2 = sns.countplot('Vehicle_Damage', hue = 'Response',data = dataset,palette=\"cool\")\n",
        "\n",
        "total_h=[]\n",
        "for i,p in enumerate(ax1.patches):\n",
        "    height = p.get_height()\n",
        "    total_h+=[height]\n",
        "    ax1.text(p.get_x()+p.get_width()/2., height + 3, '{:1.2f}'.format(height/total*100), ha=\"center\")\n",
        "total_h*=2\n",
        "for i,p in enumerate(ax2.patches):\n",
        "    height = p.get_height()\n",
        "    ax2.text(p.get_x()+p.get_width()/2., height + 3, '{:1.2f}'.format(height/total_h[i]*100), ha=\"center\")\n",
        "plt.tight_layout()\n"
      ],
      "execution_count": null,
      "outputs": [
        {
          "output_type": "stream",
          "name": "stdout",
          "text": [
            "Percentage of vechicle damage feature\n",
            " \n",
            "Yes    50.487656\n",
            "No     49.512344\n",
            "Name: Vehicle_Damage, dtype: float64\n"
          ]
        },
        {
          "output_type": "display_data",
          "data": {
            "image/png": "[encoded data removed]",
            "text/plain": [
              "<Figure size 936x360 with 2 Axes>"
            ]
          },
          "metadata": {
            "needs_background": "light"
          }
        }
      ]
    },
    {
      "cell_type": "markdown",
      "metadata": {
        "id": "7S5WZN1CQJnU"
      },
      "source": [
        "* Customers with vechicle damage(Yes and NO) are equally distributed with (50.48 % , 49.51 %) \n",
        "* Customers with vechicle damage are more interested in Vehicle Insurance"
      ]
    },
    {
      "cell_type": "markdown",
      "metadata": {
        "id": "R0f33BMAQKn7"
      },
      "source": [
        "\n",
        "\n",
        "\n",
        "\n",
        "## Vintage\n",
        "\n",
        "Number of Days, Customer has been associated with the company"
      ]
    },
    {
      "cell_type": "code",
      "metadata": {
        "trusted": true,
        "id": "ZQrSYFIkQJnV",
        "colab": {
          "base_uri": "https://localhost:8080/",
          "height": 359
        },
        "outputId": "e790e9fb-d0ab-451c-d469-aefbe7ae1215"
      },
      "source": [
        "f,ax = plt.subplots(nrows=1,ncols=2,figsize=(25,5))\n",
        "axx = ax.flatten()\n",
        "sns.distplot(dataset['Vintage'],ax=axx[0], color='c')\n",
        "sns.boxplot (dataset['Vintage'],ax=axx[1],color='c')\n"
      ],
      "execution_count": null,
      "outputs": [
        {
          "output_type": "execute_result",
          "data": {
            "text/plain": [
              "<matplotlib.axes._subplots.AxesSubplot at 0x7fb4a900d810>"
            ]
          },
          "metadata": {},
          "execution_count": 132
        },
        {
          "output_type": "display_data",
          "data": {
            "image/png": "[encoded data removed]",
            "text/plain": [
              "<Figure size 1800x360 with 2 Axes>"
            ]
          },
          "metadata": {
            "needs_background": "light"
          }
        }
      ]
    },
    {
      "cell_type": "markdown",
      "metadata": {
        "id": "yDGGqVsRQJnS"
      },
      "source": [
        "##  <span style = \"color:blue\"> Region Code  </span> "
      ]
    },
    {
      "cell_type": "code",
      "metadata": {
        "trusted": true,
        "id": "e9StuuA8QJnS",
        "colab": {
          "base_uri": "https://localhost:8080/",
          "height": 266
        },
        "outputId": "cf165e11-3b6b-4e8a-bafe-7e89129ea0d6"
      },
      "source": [
        "plt.figure(figsize = (20,10))\n",
        "plt.subplot(3,1,1)\n",
        "sns.countplot(dataset['Region_Code'], palette = 'hsv')\n",
        "plt.title('Count of Region code')\n",
        "\n"
      ],
      "execution_count": null,
      "outputs": [
        {
          "output_type": "execute_result",
          "data": {
            "text/plain": [
              "Text(0.5, 1.0, 'Count of Region code')"
            ]
          },
          "metadata": {},
          "execution_count": 38
        },
        {
          "output_type": "display_data",
          "data": {
            "image/png": "[encoded data removed]",
            "text/plain": [
              "<Figure size 1440x720 with 1 Axes>"
            ]
          },
          "metadata": {
            "needs_background": "light"
          }
        }
      ]
    },
    {
      "cell_type": "markdown",
      "metadata": {
        "id": "FrKXJhOEQJnT"
      },
      "source": [
        "* The indivisuals with region code 28 the highest as compared to the other ones\n",
        "* From the box plot it looks like there is no outliers in the data \n",
        "- Further  we can analyze which region has highest intrested customers "
      ]
    },
    {
      "cell_type": "markdown",
      "metadata": {
        "id": "s7RoqmBwjunj"
      },
      "source": [
        "##  <span style = \"color:blue\"> Policy Sales Channel  </span> "
      ]
    },
    {
      "cell_type": "code",
      "metadata": {
        "trusted": true,
        "colab": {
          "base_uri": "https://localhost:8080/",
          "height": 266
        },
        "id": "rIjiw1dfj9OT",
        "outputId": "ee2c3c37-0081-4ba2-a855-f18a4129cd09"
      },
      "source": [
        "plt.figure(figsize = (20,10))\n",
        "plt.subplot(3,1,2)\n",
        "sns.distplot(dataset['Policy_Sales_Channel'])\n",
        "plt.title('Distribution of Region code')\n"
      ],
      "execution_count": null,
      "outputs": [
        {
          "output_type": "execute_result",
          "data": {
            "text/plain": [
              "Text(0.5, 1.0, 'Distribution of Region code')"
            ]
          },
          "metadata": {},
          "execution_count": 39
        },
        {
          "output_type": "display_data",
          "data": {
            "image/png": "[encoded data removed]",
            "text/plain": [
              "<Figure size 1440x720 with 1 Axes>"
            ]
          },
          "metadata": {
            "needs_background": "light"
          }
        }
      ]
    },
    {
      "cell_type": "code",
      "metadata": {
        "colab": {
          "base_uri": "https://localhost:8080/",
          "height": 361
        },
        "id": "5Xq69odP_hu-",
        "outputId": "44f9891e-ccee-48b9-91d6-798790827ca7"
      },
      "source": [
        "sns.FacetGrid(dataset,hue='Response',size=5) \\\n",
        " .map(sns.distplot,\"Policy_Sales_Channel\") \\\n",
        " .add_legend();\n",
        "plt.show()"
      ],
      "execution_count": null,
      "outputs": [
        {
          "output_type": "display_data",
          "data": {
            "image/png": "[encoded data removed]",
            "text/plain": [
              "<Figure size 438.575x360 with 1 Axes>"
            ]
          },
          "metadata": {
            "needs_background": "light"
          }
        }
      ]
    },
    {
      "cell_type": "markdown",
      "metadata": {
        "id": "wMupsF4hQIhZ"
      },
      "source": [
        "The most used sales channels are 152, 26 and 124. The best channel that results in customer interest is 152."
      ]
    },
    {
      "cell_type": "code",
      "metadata": {
        "trusted": true,
        "id": "zKVOoF5tQJnV",
        "colab": {
          "base_uri": "https://localhost:8080/",
          "height": 427
        },
        "outputId": "40eed1fc-4c72-47ce-8805-1f4fd0335cbc"
      },
      "source": [
        "plt.figure(figsize=(5,5))\n",
        "plt.title(\"Correlation plot\")\n",
        "sns.heatmap(dataset[numerical_features].corr().abs(),linewidths=5, annot=True, square=True,annot_kws={'size': 10},cmap='YlGnBu', fmt=\".3f\") #cmap = 'Blues'"
      ],
      "execution_count": null,
      "outputs": [
        {
          "output_type": "execute_result",
          "data": {
            "text/plain": [
              "<matplotlib.axes._subplots.AxesSubplot at 0x7fb4b0721910>"
            ]
          },
          "metadata": {},
          "execution_count": 41
        },
        {
          "output_type": "display_data",
          "data": {
            "image/png": "[encoded data removed]",
            "text/plain": [
              "<Figure size 360x360 with 2 Axes>"
            ]
          },
          "metadata": {
            "needs_background": "light"
          }
        }
      ]
    },
    {
      "cell_type": "markdown",
      "metadata": {
        "id": "EJ6ndnkCQIhY"
      },
      "source": [
        "We can see that the most influencing factors for Response are Vehicle_Damage and Previously_Insured, followed by Vehicle_Age"
      ]
    },
    {
      "cell_type": "markdown",
      "metadata": {
        "id": "GZbC2_-v_0rk"
      },
      "source": [
        "# <font size=\"+3\" color='#540b11'><b> Data Preprocessing </b> </font>"
      ]
    },
    {
      "cell_type": "markdown",
      "metadata": {
        "id": "PsjZxBY44aSK"
      },
      "source": [
        "annual premium has the worst outliers\n"
      ]
    },
    {
      "cell_type": "code",
      "metadata": {
        "id": "QbuPq_bsNGw3"
      },
      "source": [
        "Q1 = np.percentile(dataset['Annual_Premium'], 25, interpolation = 'midpoint') \n",
        "Q2 = np.percentile(dataset['Annual_Premium'], 50, interpolation = 'midpoint') \n",
        "Q3 = np.percentile(dataset['Annual_Premium'], 75, interpolation = 'midpoint') \n",
        "  \n",
        "IQR = Q3 - Q1 \n",
        "\n",
        "low_lim = Q1 - 1.5 * IQR\n",
        "up_lim = Q3 + 1.5 * IQR"
      ],
      "execution_count": null,
      "outputs": []
    },
    {
      "cell_type": "code",
      "metadata": {
        "colab": {
          "base_uri": "https://localhost:8080/"
        },
        "id": "xjErXM3NNXSm",
        "outputId": "45e4a1bc-4d64-41c4-f683-fde26585fbaf"
      },
      "source": [
        "outlier =[]\n",
        "for x in dataset['Annual_Premium']:\n",
        "    if ((x> up_lim) or (x<low_lim)):\n",
        "         outlier.append(x)\n",
        "print(' Outliers in the Annual Premium :', len(outlier))"
      ],
      "execution_count": null,
      "outputs": [
        {
          "output_type": "stream",
          "name": "stdout",
          "text": [
            " Outliers in the Annual Premium : 10320\n"
          ]
        }
      ]
    },
    {
      "cell_type": "code",
      "metadata": {
        "colab": {
          "base_uri": "https://localhost:8080/",
          "height": 359
        },
        "id": "aAGXpr0nPF7B",
        "outputId": "7c833751-5fcf-41a6-85d0-17f17168dd73"
      },
      "source": [
        "import seaborn as sns\n",
        "sns.boxplot(dataset['Annual_Premium'])"
      ],
      "execution_count": null,
      "outputs": [
        {
          "output_type": "execute_result",
          "data": {
            "text/plain": [
              "<matplotlib.axes._subplots.AxesSubplot at 0x7fb4b064e450>"
            ]
          },
          "metadata": {},
          "execution_count": 44
        },
        {
          "output_type": "display_data",
          "data": {
            "image/png": "[encoded data removed]",
            "text/plain": [
              "<Figure size 648x360 with 1 Axes>"
            ]
          },
          "metadata": {
            "needs_background": "light"
          }
        }
      ]
    },
    {
      "cell_type": "markdown",
      "metadata": {
        "id": "yhO_L4_UCKUM"
      },
      "source": [
        "\n",
        "* From the distribution plot we can infer that the annual premimum variable is right skewed\n",
        "* From the boxplot we can observe lot of outliers in the variable"
      ]
    },
    {
      "cell_type": "code",
      "metadata": {
        "id": "NySHIPe-OWX5"
      },
      "source": [
        "#dataset['Annual_Premium']=dataset['Annual_Premium'].replace(outlier,up_lim)"
      ],
      "execution_count": null,
      "outputs": []
    },
    {
      "cell_type": "code",
      "metadata": {
        "id": "1MpvfQaW2bz3"
      },
      "source": [
        "#import seaborn as sns\n",
        "#ns.boxplot(dataset['Annual_Premium'])"
      ],
      "execution_count": null,
      "outputs": []
    },
    {
      "cell_type": "markdown",
      "metadata": {
        "id": "xp3G0NkrK9KD"
      },
      "source": [
        "##### Checking duplicate rows"
      ]
    },
    {
      "cell_type": "code",
      "metadata": {
        "id": "vmkpVFJZLEsj"
      },
      "source": [
        "duplicate=dataset[dataset.duplicated()].sort_values(['Vintage','Age'])\n",
        "print(duplicate)"
      ],
      "execution_count": null,
      "outputs": []
    },
    {
      "cell_type": "markdown",
      "metadata": {
        "id": "VVugvmgPLaDy"
      },
      "source": [
        "* there is no duplicated rows in the dataset \n",
        "the above summary shows the number of observations that have the same respose and same features\n"
      ]
    },
    {
      "cell_type": "markdown",
      "metadata": {
        "id": "6pd0FitSQIhX"
      },
      "source": [
        "### Label Encoding"
      ]
    },
    {
      "cell_type": "markdown",
      "metadata": {
        "id": "oeIRRJUeQIhX"
      },
      "source": [
        "In machine learning, we usually deal with datasets which contains multiple labels in one or more than one columns. These labels can be in the form of words or numbers. To make the data understandable or in human readable form, the training data is often labeled in words.\n",
        "Label Encoding refers to converting the labels into numeric form so as to convert it into the machine-readable form."
      ]
    },
    {
      "cell_type": "markdown",
      "metadata": {
        "id": "SzHbQ9EtQIhY"
      },
      "source": [
        "We replaced some values in the data sets with numerical values, as follows;\n",
        "\n",
        "**Vehicle Age ->**\n",
        "* \"<1 Year\" = 0\n",
        "* \"1-2 Year\" = 1\n",
        "* \">2 Year\" = 2\n",
        "\n",
        "**Gender ->**\n",
        "* \"Female\" = 0\n",
        "* \"Male\" = 1\n",
        "\n",
        "**Vehicle Damage ->**\n",
        "* \"No\" = 0\n",
        "* \"Yes\" = 1"
      ]
    },
    {
      "cell_type": "code",
      "metadata": {
        "id": "4hVTWuYrmBCD"
      },
      "source": [
        "dataset.head(5)"
      ],
      "execution_count": null,
      "outputs": []
    },
    {
      "cell_type": "code",
      "metadata": {
        "trusted": true,
        "id": "HwEsKGzsQIhY"
      },
      "source": [
        "dataset['Vehicle_Age']=dataset['Vehicle_Age'].replace({'< 1 Year':0.5,'1-2 Year':1.5,'> 2 Years':2.5})\n",
        "dataset['Gender']=dataset['Gender'].replace({'Male':1,'Female':0})\n",
        "dataset['Vehicle_Damage']=dataset['Vehicle_Damage'].replace({'Yes':1,'No':0})"
      ],
      "execution_count": null,
      "outputs": []
    },
    {
      "cell_type": "code",
      "metadata": {
        "id": "ouFJLKQ-mbGc"
      },
      "source": [
        "dataset.head(5)"
      ],
      "execution_count": null,
      "outputs": []
    },
    {
      "cell_type": "markdown",
      "metadata": {
        "id": "yOM1N2diJxvc"
      },
      "source": [
        "# Feature Engineering :\n",
        "\n",
        "Handling Categorical values in Policy_Sales_Channel  and Region_Code"
      ]
    },
    {
      "cell_type": "code",
      "metadata": {
        "id": "cykUp0c8LFyk"
      },
      "source": [
        "from sklearn.model_selection import train_test_split\n",
        "dataset , dataset_test = train_test_split(dataset , test_size=0.2 )"
      ],
      "execution_count": null,
      "outputs": []
    },
    {
      "cell_type": "code",
      "metadata": {
        "id": "RJEyy0vaLY2i"
      },
      "source": [
        "dataset.shape , dataset_test.shape"
      ],
      "execution_count": null,
      "outputs": []
    },
    {
      "cell_type": "markdown",
      "metadata": {
        "id": "3-UDk0iBL-pC"
      },
      "source": [
        "### target mean encoding\n",
        "\n",
        "Make this a fucniton , \n",
        "\n",
        "such that it can also be applied to incoming data ,\n",
        "\n",
        "create a data prep pipeline\n",
        "\n",
        "such this transform can be carried out on new incoming data also"
      ]
    },
    {
      "cell_type": "code",
      "metadata": {
        "id": "xurZKbBdKsV5"
      },
      "source": [
        "Mean_encoding_Policy_Sales_Channel = dataset.groupby(['Policy_Sales_Channel'])['Response'].mean().to_dict()\n",
        "\n",
        "dataset['Policy_Sales_Channel_Target_encoded'] =  dataset['Policy_Sales_Channel'].map(Mean_encoding_Policy_Sales_Channel)"
      ],
      "execution_count": null,
      "outputs": []
    },
    {
      "cell_type": "code",
      "metadata": {
        "id": "BPh89u6gMM8o"
      },
      "source": [
        "#dataset_test['Policy_Sales_Channel_Target_encoded'] =  dataset_test['Policy_Sales_Channel'].map(Mean_encoding_Policy_Sales_Channel)"
      ],
      "execution_count": null,
      "outputs": []
    },
    {
      "cell_type": "code",
      "metadata": {
        "id": "-KfGWwXNKsQI"
      },
      "source": [
        "Mean_encoding_Region_Code = dataset.groupby(['Region_Code'])['Response'].mean().to_dict()\n",
        "\n",
        "dataset['Region_Code_Target_encoded'] =  dataset['Region_Code'].map(Mean_encoding_Region_Code)"
      ],
      "execution_count": null,
      "outputs": []
    },
    {
      "cell_type": "code",
      "metadata": {
        "id": "OWgOiUQHMO8v"
      },
      "source": [
        "#dataset_test['Region_Code_Target_encoded'] =  dataset_test['Region_Code'].map(Mean_encoding_Region_Code)"
      ],
      "execution_count": null,
      "outputs": []
    },
    {
      "cell_type": "markdown",
      "metadata": {
        "id": "SUVfQnLMYmIL"
      },
      "source": [
        "# Cleaned Data Exporting "
      ]
    },
    {
      "cell_type": "code",
      "metadata": {
        "id": "0pA9DA-eZtQp"
      },
      "source": [
        "dataset.head()"
      ],
      "execution_count": null,
      "outputs": []
    },
    {
      "cell_type": "code",
      "metadata": {
        "id": "h7xJHQPWaUWR"
      },
      "source": [
        "dataset.info()"
      ],
      "execution_count": null,
      "outputs": []
    },
    {
      "cell_type": "code",
      "metadata": {
        "id": "IdkoFmk2440_"
      },
      "source": [
        "filepath = '/content/drive/MyDrive/AlmaBetter/Capstone2_Supervised_Classification/Code/Data/processed_data.csv'\n",
        "filepath = '/content/drive/MyDrive/AlmaBetter/Capstone2_Supervised_Classification/Code/Data/processed_data_test.csv'\n",
        "\n",
        "dataset = dataset.to_csv(filepath)\n",
        "dataset_test = dataset_test.to_csv(filepath)\n"
      ],
      "execution_count": null,
      "outputs": []
    },
    {
      "cell_type": "markdown",
      "metadata": {
        "id": "iVnv0LLxQKtY"
      },
      "source": [
        "# Inferences and Conclusion\n",
        "We've drawn many interesting inferences from the health_insurance-cross-sell-prediction data , here's a summary of the few of them:\n",
        "we use pandas library as pd numpy as np etc.\n"
      ]
    },
    {
      "cell_type": "markdown",
      "metadata": {
        "id": "Pj9Jsm10VpEM"
      },
      "source": [
        "* Customers of age between 30 to 60 are more likely to buy insurance.\n",
        "* Customers with Driving License have higher chance of buying Insurance.\n",
        "* Customers with Vehicle_Damage are likely to buy insurance.\n",
        "*  The variable such as Age, Previously_insured,Annual_premium  are more afecting the target variable.\n",
        "* comparing ROC curve we can see that Random Forest model preform better. Because curves closer to the top-left corner, it indicate a better performance.\n"
      ]
    },
    {
      "cell_type": "markdown",
      "metadata": {
        "papermill": {
          "duration": 0.045675,
          "end_time": "2020-09-20T16:40:44.438030",
          "exception": false,
          "start_time": "2020-09-20T16:40:44.392355",
          "status": "completed"
        },
        "tags": [],
        "id": "Gz76ziidQHl0"
      },
      "source": [
        "## What Worked?\n",
        "\n",
        "* Hyperparameter tuning\n",
        "* Feature Engineering such as concatenation,aggregation, binning\n",
        "* Data cleaning steps and most pertinent of them were removing duplicates[more reliable CV] and confusing rows\n",
        "* Treating Annual Premium and Vintage as categorical features in catboost\n",
        "\n",
        "\n",
        "## What didn't Work?\n",
        "\n",
        "* Class balancing via oversampler,undersampler,TomkeLinks etc and via hardcoding class weights parameter in individual algorithm\n"
      ]
    },
    {
      "cell_type": "markdown",
      "metadata": {
        "id": "wtcg53A-QKtY"
      },
      "source": [
        "# References and Future Work\n",
        "\n",
        "**TODO** - Write some explanation here: ideas for future projects using this dataset, and links to resources you found useful."
      ]
    },
    {
      "cell_type": "markdown",
      "metadata": {
        "papermill": {
          "duration": 0.114034,
          "end_time": "2021-08-16T14:51:15.270425",
          "exception": false,
          "start_time": "2021-08-16T14:51:15.156391",
          "status": "completed"
        },
        "tags": [],
        "id": "c993dd75"
      },
      "source": [
        "## Hypothesis test\n",
        "1. Chi-test: It is help to figure-out relation between features and label with **\"pvalue <= 0.05\"**"
      ]
    },
    {
      "cell_type": "code",
      "metadata": {
        "execution": {
          "iopub.execute_input": "2021-08-16T14:51:15.507302Z",
          "iopub.status.busy": "2021-08-16T14:51:15.506290Z",
          "iopub.status.idle": "2021-08-16T14:51:15.570647Z",
          "shell.execute_reply": "2021-08-16T14:51:15.570072Z",
          "shell.execute_reply.started": "2021-08-16T06:47:59.112809Z"
        },
        "papermill": {
          "duration": 0.185779,
          "end_time": "2021-08-16T14:51:15.570835",
          "exception": false,
          "start_time": "2021-08-16T14:51:15.385056",
          "status": "completed"
        },
        "tags": [],
        "id": "de9312c2"
      },
      "source": [
        "ct = pd.crosstab(dataset['Vintage'],dataset['Response'])\n",
        "from scipy.stats import chi2_contingency\n",
        "stat,pvalue,dof,expected_R = chi2_contingency(ct)\n",
        "print(\"pvalue : \",pvalue)\n",
        "\n",
        "if pvalue <= 0.05 :\n",
        "    print(\"Alternate Hypothesis passed. Vintage and Response have Relationship\")\n",
        "else:\n",
        "    print(\"Null hypothesis passed. Vintage and Response doesnot have  Relationship\")"
      ],
      "execution_count": null,
      "outputs": []
    }
  ]
}